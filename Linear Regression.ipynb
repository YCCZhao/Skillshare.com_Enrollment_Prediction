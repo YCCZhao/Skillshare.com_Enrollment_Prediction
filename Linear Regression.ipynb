{
 "cells": [
  {
   "cell_type": "code",
   "execution_count": 39,
   "metadata": {},
   "outputs": [],
   "source": [
    "# Necessary imports\n",
    "import pandas as pd\n",
    "import numpy as np\n",
    "import statsmodels.api as sm\n",
    "import statsmodels.formula.api as smf\n",
    "import patsy\n",
    "import matplotlib.pyplot as plt\n",
    "import seaborn as sns\n",
    "import pickle\n",
    "import glob\n",
    "sns.set()\n",
    "\n",
    "from sklearn.linear_model import LinearRegression\n",
    "from sklearn.model_selection import train_test_split\n",
    "from sklearn.linear_model import RidgeCV\n",
    "\n",
    "%matplotlib inline"
   ]
  },
  {
   "cell_type": "code",
   "execution_count": 2,
   "metadata": {
    "collapsed": true
   },
   "outputs": [],
   "source": [
    "class_types = ['fine-art',\n",
    "               'photography',\n",
    "               'graphic-design',\n",
    "               'illustration',\n",
    "               'writing',\n",
    "               'music-production',\n",
    "               'animation',\n",
    "               'ui-ux-design',\n",
    "               'film-production',\n",
    "               'marketing',\n",
    "               'entrepreneurship',\n",
    "               'productivity',\n",
    "               'finance',\n",
    "               'freelance',\n",
    "               'business-analytics',\n",
    "               'management',\n",
    "               'leadership',\n",
    "               'sales',\n",
    "               'human-resources',\n",
    "               'accounting',\n",
    "               'web-development',\n",
    "               'mobile-development',\n",
    "               'it-security',\n",
    "               'data-science',\n",
    "               'game-design',\n",
    "               'product-management',\n",
    "               'crafts',\n",
    "               'culinary',\n",
    "               'health-and-wellness',\n",
    "               'other',\n",
    "               'teaching',\n",
    "               'home-business',\n",
    "               'languages',\n",
    "               'gaming']"
   ]
  },
  {
   "cell_type": "code",
   "execution_count": 27,
   "metadata": {
    "collapsed": true
   },
   "outputs": [],
   "source": [
    "columns = ['class_name',\n",
    "          'teacher',\n",
    "          'teacher_title',\n",
    "          'teacher_profile',\n",
    "          'description_length',\n",
    "          'description_image_number',\n",
    "          'description_link_number',\n",
    "          'video_number',\n",
    "          'video_length_min',\n",
    "          'tags',\n",
    "          'sample_project',\n",
    "          'class_sku',\n",
    "          'paid_class',\n",
    "          'start_date',\n",
    "          'enrollment_number']"
   ]
  },
  {
   "cell_type": "code",
   "execution_count": 26,
   "metadata": {},
   "outputs": [
    {
     "data": {
      "text/plain": [
       "[223,\n",
       " 218,\n",
       " 269,\n",
       " 45,\n",
       " 151,\n",
       " 43,\n",
       " 116,\n",
       " 46,\n",
       " 97,\n",
       " 175,\n",
       " 83,\n",
       " 94,\n",
       " 38,\n",
       " 27,\n",
       " 0,\n",
       " 31,\n",
       " 40,\n",
       " 39,\n",
       " 17,\n",
       " 20,\n",
       " 69,\n",
       " 17,\n",
       " 15,\n",
       " 9,\n",
       " 24,\n",
       " 13,\n",
       " 0,\n",
       " 124,\n",
       " 34,\n",
       " 0,\n",
       " 131,\n",
       " 80,\n",
       " 40,\n",
       " 18]"
      ]
     },
     "execution_count": 26,
     "metadata": {},
     "output_type": "execute_result"
    }
   ],
   "source": [
    "class_num = []\n",
    "for class_type in class_types:\n",
    "    pickle_name = \"./done/\"+class_type+\".pickle\"\n",
    "    try:\n",
    "        data = pickle.load(open(pickle_name, \"rb\"))\n",
    "        class_num.append(len(data['enrollment_number']))\n",
    "                        \n",
    "    except:\n",
    "        class_num.append(0)\n",
    "class_num"
   ]
  },
  {
   "cell_type": "code",
   "execution_count": 28,
   "metadata": {},
   "outputs": [],
   "source": [
    "for i, class_type in enumerate(class_types):\n",
    "    if class_num[i] > 0:\n",
    "        old_pickle_name = \"./done/\"+class_type+\".pickle\"\n",
    "        data = pickle.load(open(old_pickle_name, \"rb\"))\n",
    "        \n",
    "        new_data = {}\n",
    "        for col in columns:\n",
    "            new_data[col] = data[col][:class_num[i]]\n",
    "            \n",
    "        new_pickle_name = \"./\"+class_type+\".pickle\"\n",
    "        pickle.dump(new_data, open(new_pickle_name, \"wb\"))\n",
    "        "
   ]
  },
  {
   "cell_type": "code",
   "execution_count": 33,
   "metadata": {
    "collapsed": true
   },
   "outputs": [],
   "source": [
    "old_pickle_name = \"./done/\"+\"fine-art\"+\".pickle\"\n",
    "data = pickle.load(open(old_pickle_name, \"rb\"))\n",
    "new_pickle_name = \"./\"+\"fine-art\"+\".pickle\"\n",
    "new_data = pickle.load(open(new_pickle_name, \"rb\"))"
   ]
  },
  {
   "cell_type": "code",
   "execution_count": 41,
   "metadata": {},
   "outputs": [],
   "source": [
    "pickle_file_list = glob.glob('./partial_data/*.pickle')"
   ]
  },
  {
   "cell_type": "code",
   "execution_count": 44,
   "metadata": {},
   "outputs": [],
   "source": [
    "data_point = 0\n",
    "for pickle_file in pickle_file_list:\n",
    "    data = pickle.load(open(pickle_file, \"rb\"))\n",
    "    data_point += len(data['class_name'])"
   ]
  },
  {
   "cell_type": "code",
   "execution_count": 45,
   "metadata": {},
   "outputs": [
    {
     "data": {
      "text/plain": [
       "2346"
      ]
     },
     "execution_count": 45,
     "metadata": {},
     "output_type": "execute_result"
    }
   ],
   "source": [
    "data_point"
   ]
  },
  {
   "cell_type": "code",
   "execution_count": null,
   "metadata": {
    "collapsed": true
   },
   "outputs": [],
   "source": []
  }
 ],
 "metadata": {
  "kernelspec": {
   "display_name": "Python 3",
   "language": "python",
   "name": "python3"
  },
  "language_info": {
   "codemirror_mode": {
    "name": "ipython",
    "version": 3
   },
   "file_extension": ".py",
   "mimetype": "text/x-python",
   "name": "python",
   "nbconvert_exporter": "python",
   "pygments_lexer": "ipython3",
   "version": "3.6.3"
  }
 },
 "nbformat": 4,
 "nbformat_minor": 2
}
