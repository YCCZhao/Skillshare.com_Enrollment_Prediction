{
 "cells": [
  {
   "cell_type": "markdown",
   "metadata": {},
   "source": [
    "# Import Libraries"
   ]
  },
  {
   "cell_type": "code",
   "execution_count": 1,
   "metadata": {},
   "outputs": [
    {
     "name": "stderr",
     "output_type": "stream",
     "text": [
      "C:\\ProgramData\\Anaconda3\\lib\\site-packages\\statsmodels\\compat\\pandas.py:56: FutureWarning: The pandas.core.datetools module is deprecated and will be removed in a future version. Please use the pandas.tseries module instead.\n",
      "  from pandas.core import datetools\n"
     ]
    }
   ],
   "source": [
    "# Necessary imports\n",
    "import re\n",
    "import pandas as pd\n",
    "import numpy as np\n",
    "import statsmodels.api as sm\n",
    "import statsmodels.formula.api as smf\n",
    "import patsy\n",
    "import matplotlib.pyplot as plt\n",
    "import seaborn as sns\n",
    "import pickle\n",
    "import glob\n",
    "import datetime\n",
    "sns.set()\n",
    "\n",
    "from sklearn import linear_model \n",
    "#from sklearn.linear_model import LinearRegression\n",
    "#from sklearn.linear_model import RidgeCV\n",
    "from sklearn.model_selection import KFold, train_test_split\n",
    "from sklearn.metrics import mean_squared_error\n",
    "from sklearn import preprocessing\n",
    "\n",
    "%matplotlib inline"
   ]
  },
  {
   "cell_type": "markdown",
   "metadata": {},
   "source": [
    "# Load The Data"
   ]
  },
  {
   "cell_type": "code",
   "execution_count": 2,
   "metadata": {
    "collapsed": true
   },
   "outputs": [],
   "source": [
    "class_types = pickle.load(open(\"class_types.pickle\", \"rb\"))\n",
    "\n",
    "#urls_dict = pickle.load(open(\"urls.pickle\", \"rb\"))\n",
    "data = pickle.load(open(\"./done/fine-art.pickle\", \"rb\"))\n",
    "temp_class_df = pd.DataFrame.from_dict(data)\n",
    "temp_class_df['class_type'] = \"fine-art\"\n",
    "    \n",
    "for class_type in class_types:\n",
    "    try:\n",
    "        pickle_name = \"./done/\"+class_type+\".pickle\"\n",
    "        data = pickle.load(open(pickle_name, \"rb\"))\n",
    "        this_class_df = pd.DataFrame.from_dict(data)\n",
    "        this_class_df['class_type'] = class_type\n",
    "        \n",
    "        #print(class_type, len(data['class_name']), 'out of', len(urls_dict[class_type]))\n",
    "        temp_class_df = pd.concat([temp_class_df, this_class_df], ignore_index=True)\n",
    "        \n",
    "    except:\n",
    "        #print(class_type)\n",
    "        continue"
   ]
  },
  {
   "cell_type": "markdown",
   "metadata": {},
   "source": [
    "# Data Cleaning\n",
    "## Data Summary"
   ]
  },
  {
   "cell_type": "code",
   "execution_count": 3,
   "metadata": {},
   "outputs": [
    {
     "name": "stdout",
     "output_type": "stream",
     "text": [
      "<class 'pandas.core.frame.DataFrame'>\n",
      "RangeIndex: 8727 entries, 0 to 8726\n",
      "Data columns (total 15 columns):\n",
      "class_length                8727 non-null object\n",
      "class_name                  8727 non-null object\n",
      "class_sku                   8727 non-null int64\n",
      "class_type                  8727 non-null object\n",
      "description_image_number    8727 non-null int64\n",
      "description_length          8727 non-null int64\n",
      "description_link_number     8727 non-null int64\n",
      "enrollment_number           8727 non-null object\n",
      "paid_class                  8727 non-null bool\n",
      "sample_project              8727 non-null bool\n",
      "start_date                  8727 non-null object\n",
      "tags                        8727 non-null object\n",
      "teacher                     8727 non-null object\n",
      "teacher_profile             8727 non-null object\n",
      "teacher_title               8414 non-null object\n",
      "dtypes: bool(2), int64(4), object(9)\n",
      "memory usage: 903.5+ KB\n"
     ]
    }
   ],
   "source": [
    "temp_class_df.info()"
   ]
  },
  {
   "cell_type": "code",
   "execution_count": 4,
   "metadata": {
    "collapsed": true
   },
   "outputs": [],
   "source": [
    "# Saving columns name for later use\n",
    "columns = list(temp_class_df.columns)"
   ]
  },
  {
   "cell_type": "code",
   "execution_count": 5,
   "metadata": {},
   "outputs": [
    {
     "data": {
      "text/plain": [
       "True"
      ]
     },
     "execution_count": 5,
     "metadata": {},
     "output_type": "execute_result"
    }
   ],
   "source": [
    "# Checking if all 34 types of classes loaded\n",
    "temp_class_df.class_type.nunique() == 34"
   ]
  },
  {
   "cell_type": "markdown",
   "metadata": {},
   "source": [
    "## Duplicate Classes"
   ]
  },
  {
   "cell_type": "code",
   "execution_count": 6,
   "metadata": {},
   "outputs": [
    {
     "name": "stdout",
     "output_type": "stream",
     "text": [
      "unique class title: 7418\n",
      "unique class sku: 7658\n"
     ]
    }
   ],
   "source": [
    "print('unique class title:', temp_class_df.class_name.nunique())\n",
    "print('unique class sku:', temp_class_df.class_sku.nunique())"
   ]
  },
  {
   "cell_type": "code",
   "execution_count": 7,
   "metadata": {
    "collapsed": true
   },
   "outputs": [],
   "source": [
    "# Auditing duplicate class\n",
    "duplicate_class_example = (temp_class_df.groupby('class_sku')['class_name']\n",
    "                           .count()\n",
    "                           .sort_values(ascending=False)\n",
    "                           .head(1)\n",
    "                           .index\n",
    "                           .tolist()[0])"
   ]
  },
  {
   "cell_type": "code",
   "execution_count": 8,
   "metadata": {},
   "outputs": [
    {
     "data": {
      "text/html": [
       "<div>\n",
       "<style>\n",
       "    .dataframe thead tr:only-child th {\n",
       "        text-align: right;\n",
       "    }\n",
       "\n",
       "    .dataframe thead th {\n",
       "        text-align: left;\n",
       "    }\n",
       "\n",
       "    .dataframe tbody tr th {\n",
       "        vertical-align: top;\n",
       "    }\n",
       "</style>\n",
       "<table border=\"1\" class=\"dataframe\">\n",
       "  <thead>\n",
       "    <tr style=\"text-align: right;\">\n",
       "      <th></th>\n",
       "      <th>class_length</th>\n",
       "      <th>class_name</th>\n",
       "      <th>class_sku</th>\n",
       "      <th>class_type</th>\n",
       "      <th>description_image_number</th>\n",
       "      <th>description_length</th>\n",
       "      <th>description_link_number</th>\n",
       "      <th>enrollment_number</th>\n",
       "      <th>paid_class</th>\n",
       "      <th>sample_project</th>\n",
       "      <th>start_date</th>\n",
       "      <th>tags</th>\n",
       "      <th>teacher</th>\n",
       "      <th>teacher_profile</th>\n",
       "      <th>teacher_title</th>\n",
       "    </tr>\n",
       "  </thead>\n",
       "  <tbody>\n",
       "    <tr>\n",
       "      <th>4225</th>\n",
       "      <td>15 Videos (1h 10m)</td>\n",
       "      <td>Skillshare - NewClasses</td>\n",
       "      <td>1054246865</td>\n",
       "      <td>management</td>\n",
       "      <td>0</td>\n",
       "      <td>3875</td>\n",
       "      <td>0</td>\n",
       "      <td>9</td>\n",
       "      <td>True</td>\n",
       "      <td>False</td>\n",
       "      <td>10/05/2017</td>\n",
       "      <td>[Business, Communication, Human Resources, Man...</td>\n",
       "      <td>Joeel and Natalie Rivera</td>\n",
       "      <td>https://www.skillshare.com/user/transformation...</td>\n",
       "      <td></td>\n",
       "    </tr>\n",
       "    <tr>\n",
       "      <th>4684</th>\n",
       "      <td>15 Videos (1h 10m)</td>\n",
       "      <td>Skillshare - NewClasses</td>\n",
       "      <td>1054246865</td>\n",
       "      <td>leadership</td>\n",
       "      <td>0</td>\n",
       "      <td>3875</td>\n",
       "      <td>0</td>\n",
       "      <td>9</td>\n",
       "      <td>True</td>\n",
       "      <td>False</td>\n",
       "      <td>10/05/2017</td>\n",
       "      <td>[Business, Communication, Human Resources, Man...</td>\n",
       "      <td>Joeel and Natalie Rivera</td>\n",
       "      <td>https://www.skillshare.com/user/transformation...</td>\n",
       "      <td></td>\n",
       "    </tr>\n",
       "    <tr>\n",
       "      <th>5028</th>\n",
       "      <td>15 Videos (1h 10m)</td>\n",
       "      <td>Skillshare - NewClasses</td>\n",
       "      <td>1054246865</td>\n",
       "      <td>human-resources</td>\n",
       "      <td>0</td>\n",
       "      <td>3875</td>\n",
       "      <td>0</td>\n",
       "      <td>9</td>\n",
       "      <td>True</td>\n",
       "      <td>False</td>\n",
       "      <td>10/05/2017</td>\n",
       "      <td>[Business, Communication, Human Resources, Man...</td>\n",
       "      <td>Joeel and Natalie Rivera</td>\n",
       "      <td>https://www.skillshare.com/user/transformation...</td>\n",
       "      <td></td>\n",
       "    </tr>\n",
       "    <tr>\n",
       "      <th>6506</th>\n",
       "      <td>15 Videos (1h 10m)</td>\n",
       "      <td>Skillshare - NewClasses</td>\n",
       "      <td>1054246865</td>\n",
       "      <td>product-management</td>\n",
       "      <td>0</td>\n",
       "      <td>3875</td>\n",
       "      <td>0</td>\n",
       "      <td>9</td>\n",
       "      <td>True</td>\n",
       "      <td>False</td>\n",
       "      <td>10/05/2017</td>\n",
       "      <td>[Business, Communication, Human Resources, Man...</td>\n",
       "      <td>Joeel and Natalie Rivera</td>\n",
       "      <td>https://www.skillshare.com/user/transformation...</td>\n",
       "      <td></td>\n",
       "    </tr>\n",
       "  </tbody>\n",
       "</table>\n",
       "</div>"
      ],
      "text/plain": [
       "            class_length               class_name   class_sku  \\\n",
       "4225  15 Videos (1h 10m)  Skillshare - NewClasses  1054246865   \n",
       "4684  15 Videos (1h 10m)  Skillshare - NewClasses  1054246865   \n",
       "5028  15 Videos (1h 10m)  Skillshare - NewClasses  1054246865   \n",
       "6506  15 Videos (1h 10m)  Skillshare - NewClasses  1054246865   \n",
       "\n",
       "              class_type  description_image_number  description_length  \\\n",
       "4225          management                         0                3875   \n",
       "4684          leadership                         0                3875   \n",
       "5028     human-resources                         0                3875   \n",
       "6506  product-management                         0                3875   \n",
       "\n",
       "      description_link_number enrollment_number  paid_class  sample_project  \\\n",
       "4225                        0                 9        True           False   \n",
       "4684                        0                 9        True           False   \n",
       "5028                        0                 9        True           False   \n",
       "6506                        0                 9        True           False   \n",
       "\n",
       "      start_date                                               tags  \\\n",
       "4225  10/05/2017  [Business, Communication, Human Resources, Man...   \n",
       "4684  10/05/2017  [Business, Communication, Human Resources, Man...   \n",
       "5028  10/05/2017  [Business, Communication, Human Resources, Man...   \n",
       "6506  10/05/2017  [Business, Communication, Human Resources, Man...   \n",
       "\n",
       "                       teacher  \\\n",
       "4225  Joeel and Natalie Rivera   \n",
       "4684  Joeel and Natalie Rivera   \n",
       "5028  Joeel and Natalie Rivera   \n",
       "6506  Joeel and Natalie Rivera   \n",
       "\n",
       "                                        teacher_profile teacher_title  \n",
       "4225  https://www.skillshare.com/user/transformation...                \n",
       "4684  https://www.skillshare.com/user/transformation...                \n",
       "5028  https://www.skillshare.com/user/transformation...                \n",
       "6506  https://www.skillshare.com/user/transformation...                "
      ]
     },
     "execution_count": 8,
     "metadata": {},
     "output_type": "execute_result"
    }
   ],
   "source": [
    "#temp_class_df = temp_class_df.drop_duplicates(['class_sku', 'class_type'])\n",
    "temp_class_df[temp_class_df.class_sku == duplicate_class_example]"
   ]
  },
  {
   "cell_type": "markdown",
   "metadata": {},
   "source": [
    "Same class shown in different class type section.\n",
    "Solution:\n",
    "* create dummy variables for class type\n",
    "* add values of dummy class type varaibles for the same class"
   ]
  },
  {
   "cell_type": "code",
   "execution_count": 9,
   "metadata": {
    "collapsed": true
   },
   "outputs": [],
   "source": [
    "temp_class_df1 = pd.concat([temp_class_df,\n",
    "                            pd.get_dummies(temp_class_df.class_type, prefix=\"class_type\")],\n",
    "                           axis=1\n",
    "                          )"
   ]
  },
  {
   "cell_type": "code",
   "execution_count": 10,
   "metadata": {},
   "outputs": [
    {
     "name": "stdout",
     "output_type": "stream",
     "text": [
      "Is number of new columns equal the number of class types?\n"
     ]
    },
    {
     "data": {
      "text/plain": [
       "True"
      ]
     },
     "execution_count": 10,
     "metadata": {},
     "output_type": "execute_result"
    }
   ],
   "source": [
    "old_col_num = len(columns)\n",
    "new_cols = list(temp_class_df1.columns)\n",
    "new_cols_num = len(new_cols)\n",
    "\n",
    "print(\"Is number of new columns equal the number of class types?\")\n",
    "(new_cols_num - old_col_num) == 34"
   ]
  },
  {
   "cell_type": "code",
   "execution_count": 11,
   "metadata": {},
   "outputs": [
    {
     "name": "stdout",
     "output_type": "stream",
     "text": [
      "<class 'pandas.core.frame.DataFrame'>\n",
      "Int64Index: 7658 entries, 576876085 to 759834501\n",
      "Data columns (total 47 columns):\n",
      "class_length                      7658 non-null object\n",
      "class_name                        7658 non-null object\n",
      "class_type                        7658 non-null object\n",
      "description_image_number          7658 non-null int64\n",
      "description_length                7658 non-null int64\n",
      "description_link_number           7658 non-null int64\n",
      "enrollment_number                 7658 non-null object\n",
      "paid_class                        7658 non-null bool\n",
      "sample_project                    7658 non-null bool\n",
      "start_date                        7658 non-null object\n",
      "tags                              7658 non-null object\n",
      "teacher                           7658 non-null object\n",
      "teacher_profile                   7658 non-null object\n",
      "teacher_title                     7383 non-null object\n",
      "class_type_animation              7658 non-null uint8\n",
      "class_type_business-analytics     7658 non-null uint8\n",
      "class_type_crafts                 7658 non-null uint8\n",
      "class_type_culinary               7658 non-null uint8\n",
      "class_type_data-science           7658 non-null uint8\n",
      "class_type_entrepreneurship       7658 non-null uint8\n",
      "class_type_film-production        7658 non-null uint8\n",
      "class_type_finance                7658 non-null uint8\n",
      "class_type_fine-art               7658 non-null uint8\n",
      "class_type_freelance              7658 non-null uint8\n",
      "class_type_game-design            7658 non-null uint8\n",
      "class_type_gaming                 7658 non-null uint8\n",
      "class_type_graphic-design         7658 non-null uint8\n",
      "class_type_health-and-wellness    7658 non-null uint8\n",
      "class_type_home-business          7658 non-null uint8\n",
      "class_type_human-resources        7658 non-null uint8\n",
      "class_type_illustration           7658 non-null uint8\n",
      "class_type_it-security            7658 non-null uint8\n",
      "class_type_languages              7658 non-null uint8\n",
      "class_type_leadership             7658 non-null uint8\n",
      "class_type_management             7658 non-null uint8\n",
      "class_type_marketing              7658 non-null uint8\n",
      "class_type_mobile-development     7658 non-null uint8\n",
      "class_type_music-production       7658 non-null uint8\n",
      "class_type_other                  7658 non-null uint8\n",
      "class_type_photography            7658 non-null uint8\n",
      "class_type_product-management     7658 non-null uint8\n",
      "class_type_productivity           7658 non-null uint8\n",
      "class_type_sales                  7658 non-null uint8\n",
      "class_type_teaching               7658 non-null uint8\n",
      "class_type_ui-ux-design           7658 non-null uint8\n",
      "class_type_web-development        7658 non-null uint8\n",
      "class_type_writing                7658 non-null uint8\n",
      "dtypes: bool(2), int64(3), object(9), uint8(33)\n",
      "memory usage: 1.3+ MB\n"
     ]
    }
   ],
   "source": [
    "combined_class_type = temp_class_df1.groupby('class_sku',as_index=False)[new_cols[old_col_num+1:]].sum()\n",
    "deleted_duplicate_class = temp_class_df.drop_duplicates('class_sku')\n",
    "\n",
    "# temp_class_df2 contains class type dummy variables\n",
    "temp_class_df2 = (deleted_duplicate_class.set_index('class_sku')\n",
    "                  .join(combined_class_type.set_index('class_sku')))\n",
    "\n",
    "temp_class_df2.info()"
   ]
  },
  {
   "cell_type": "code",
   "execution_count": 12,
   "metadata": {},
   "outputs": [
    {
     "data": {
      "text/plain": [
       "class_sku\n",
       "2147098797    1\n",
       "Name: class_name, dtype: int64"
      ]
     },
     "execution_count": 12,
     "metadata": {},
     "output_type": "execute_result"
    }
   ],
   "source": [
    "# Checking if no duplicate classes\n",
    "(temp_class_df2.groupby('class_sku')['class_name']\n",
    " .count()\n",
    " .sort_values(ascending=False)\n",
    " .head(1))"
   ]
  },
  {
   "cell_type": "markdown",
   "metadata": {},
   "source": [
    "## The Tags Column is a list\n",
    "\n",
    "* Add a columns of number of tags\n",
    "* Check number of unique tags\n",
    "* Create dummy variables for most used tags only due to large amount of unique tags"
   ]
  },
  {
   "cell_type": "code",
   "execution_count": 13,
   "metadata": {
    "collapsed": true
   },
   "outputs": [],
   "source": [
    "temp_class_df2['tag_num'] = temp_class_df2.tags.apply(lambda x: len(x))"
   ]
  },
  {
   "cell_type": "code",
   "execution_count": 14,
   "metadata": {
    "collapsed": true
   },
   "outputs": [],
   "source": [
    "# create a dataframe with dummy variables for all tags\n",
    "flatten_tags_df = (pd.get_dummies(temp_class_df2.tags.apply(pd.Series)\n",
    "                                  .stack(), prefix=\"tag\")\n",
    "                   .sum(level=0))"
   ]
  },
  {
   "cell_type": "code",
   "execution_count": 15,
   "metadata": {
    "collapsed": true
   },
   "outputs": [],
   "source": [
    "# extract the ## must used tags and include these dummy variables only\n",
    "top_tag_num = 100\n",
    "top_tags =(flatten_tags_df.sum()\n",
    "           .sort_values(ascending=False)\n",
    "           .head(top_tag_num)\n",
    "           .index.tolist())\n",
    "\n",
    "#top_tags"
   ]
  },
  {
   "cell_type": "code",
   "execution_count": 16,
   "metadata": {
    "collapsed": true
   },
   "outputs": [],
   "source": [
    "# append tag dummy variables\n",
    "temp_class_df3 = temp_class_df2\n",
    "#temp_class_df3 = temp_class_df2.join(flatten_tags_df[top_tags])\n",
    "#temp_class_df3.columns.tolist()"
   ]
  },
  {
   "cell_type": "markdown",
   "metadata": {},
   "source": [
    "## Enrollment accumlated since classes started, and start date varies\n",
    "\n",
    "* Add a column of days between classes start date and 1/31/2018"
   ]
  },
  {
   "cell_type": "code",
   "execution_count": 17,
   "metadata": {
    "collapsed": true
   },
   "outputs": [],
   "source": [
    "temp_class_df3['start_date'] = pd.to_datetime(temp_class_df3['start_date'])\n",
    "\n",
    "# up until 1/31/2018\n",
    "temp_class_df3['days_since_started'] = ((datetime.date.today() - temp_class_df3.start_date)\n",
    "                                        .dt.days)\n",
    "\n",
    "first_class_sku = (temp_class_df3['days_since_started']\n",
    "                   .sort_values(ascending=False)\n",
    "                   .index.tolist()[0])"
   ]
  },
  {
   "cell_type": "code",
   "execution_count": 18,
   "metadata": {},
   "outputs": [
    {
     "data": {
      "text/plain": [
       "'Minimum Viable Product: Validate Your Startup Idea for Less than $1,000'"
      ]
     },
     "execution_count": 18,
     "metadata": {},
     "output_type": "execute_result"
    }
   ],
   "source": [
    "# curious what is the first class on Skillshare.com\n",
    "temp_class_df3.loc[first_class_sku,:]['class_name']"
   ]
  },
  {
   "cell_type": "markdown",
   "metadata": {},
   "source": [
    "## Class length is a string containing number of videos and length of all videos\n",
    "* Add a column of number of videos of the class\n",
    "* Add a column of total video length in minutes"
   ]
  },
  {
   "cell_type": "code",
   "execution_count": 19,
   "metadata": {
    "collapsed": true
   },
   "outputs": [],
   "source": [
    "def extract_hour(row):\n",
    "    match = re.search('(\\d+)(?=h)', row)\n",
    "    if match:\n",
    "        return match.group(0)\n",
    "    else:\n",
    "        return 0 \n",
    "    \n",
    "def extract_min(row):\n",
    "    match = re.search('(\\d+)(?=m)', row)\n",
    "    if match:\n",
    "        return match.group(0)\n",
    "    else:\n",
    "        return 0 "
   ]
  },
  {
   "cell_type": "code",
   "execution_count": 20,
   "metadata": {
    "collapsed": true
   },
   "outputs": [],
   "source": [
    "temp_class_df3['video_num'] = (temp_class_df3.class_length\n",
    "                               .apply(lambda x: re.search('(\\d*)', x).group(0))\n",
    "                               .astype('int32'))"
   ]
  },
  {
   "cell_type": "code",
   "execution_count": 21,
   "metadata": {
    "collapsed": true
   },
   "outputs": [],
   "source": [
    "temp_class_df3['video_hr'] = temp_class_df3.class_length.apply(extract_hour)\n",
    "temp_class_df3['video_min'] = temp_class_df3.class_length.apply(extract_min)"
   ]
  },
  {
   "cell_type": "code",
   "execution_count": 22,
   "metadata": {
    "collapsed": true
   },
   "outputs": [],
   "source": [
    "temp_class_df3['class_length_min'] = (temp_class_df3.video_hr.astype('int32')*60 \n",
    "                                     + temp_class_df3.video_min.astype('int32'))"
   ]
  },
  {
   "cell_type": "code",
   "execution_count": 23,
   "metadata": {},
   "outputs": [
    {
     "data": {
      "text/html": [
       "<div>\n",
       "<style>\n",
       "    .dataframe thead tr:only-child th {\n",
       "        text-align: right;\n",
       "    }\n",
       "\n",
       "    .dataframe thead th {\n",
       "        text-align: left;\n",
       "    }\n",
       "\n",
       "    .dataframe tbody tr th {\n",
       "        vertical-align: top;\n",
       "    }\n",
       "</style>\n",
       "<table border=\"1\" class=\"dataframe\">\n",
       "  <thead>\n",
       "    <tr style=\"text-align: right;\">\n",
       "      <th></th>\n",
       "      <th>class_length</th>\n",
       "      <th>video_num</th>\n",
       "      <th>class_length_min</th>\n",
       "    </tr>\n",
       "    <tr>\n",
       "      <th>class_sku</th>\n",
       "      <th></th>\n",
       "      <th></th>\n",
       "      <th></th>\n",
       "    </tr>\n",
       "  </thead>\n",
       "  <tbody>\n",
       "    <tr>\n",
       "      <th>576876085</th>\n",
       "      <td>11 Videos (2h 20m)</td>\n",
       "      <td>11</td>\n",
       "      <td>140</td>\n",
       "    </tr>\n",
       "    <tr>\n",
       "      <th>1205014536</th>\n",
       "      <td>11 Videos (55m)</td>\n",
       "      <td>11</td>\n",
       "      <td>55</td>\n",
       "    </tr>\n",
       "    <tr>\n",
       "      <th>1544174240</th>\n",
       "      <td>12 Videos (54m)</td>\n",
       "      <td>12</td>\n",
       "      <td>54</td>\n",
       "    </tr>\n",
       "    <tr>\n",
       "      <th>2077240320</th>\n",
       "      <td>12 Videos (3h 48m)</td>\n",
       "      <td>12</td>\n",
       "      <td>228</td>\n",
       "    </tr>\n",
       "    <tr>\n",
       "      <th>1789656808</th>\n",
       "      <td>8 Videos (1h 21m)</td>\n",
       "      <td>8</td>\n",
       "      <td>81</td>\n",
       "    </tr>\n",
       "  </tbody>\n",
       "</table>\n",
       "</div>"
      ],
      "text/plain": [
       "                  class_length  video_num  class_length_min\n",
       "class_sku                                                  \n",
       "576876085   11 Videos (2h 20m)         11               140\n",
       "1205014536     11 Videos (55m)         11                55\n",
       "1544174240     12 Videos (54m)         12                54\n",
       "2077240320  12 Videos (3h 48m)         12               228\n",
       "1789656808   8 Videos (1h 21m)          8                81"
      ]
     },
     "execution_count": 23,
     "metadata": {},
     "output_type": "execute_result"
    }
   ],
   "source": [
    "# checking if calculation is correct\n",
    "temp_class_df3[['class_length', 'video_num', 'class_length_min']].head()"
   ]
  },
  {
   "cell_type": "markdown",
   "metadata": {},
   "source": [
    "## Turning each teacher into a dummy variables would overfit the model\n",
    "* group teachers based on number of classes taught by each teacher"
   ]
  },
  {
   "cell_type": "code",
   "execution_count": 24,
   "metadata": {
    "collapsed": true
   },
   "outputs": [],
   "source": [
    "classes_per_teacher = (temp_class_df3.groupby('teacher')['class_name']\n",
    "                       .count()\n",
    "                       .sort_values(ascending=False))\n",
    "\n",
    "teachers = classes_per_teacher.index.tolist()"
   ]
  },
  {
   "cell_type": "code",
   "execution_count": 25,
   "metadata": {},
   "outputs": [
    {
     "data": {
      "image/png": "[encoded data removed]",
      "text/plain": [
       "<matplotlib.figure.Figure at 0x22d25a96908>"
      ]
     },
     "metadata": {},
     "output_type": "display_data"
    }
   ],
   "source": [
    "classes_per_teacher.hist();#.describe()"
   ]
  },
  {
   "cell_type": "code",
   "execution_count": 26,
   "metadata": {},
   "outputs": [
    {
     "data": {
      "image/png": "[encoded data removed]",
      "text/plain": [
       "<matplotlib.figure.Figure at 0x22d2601c0f0>"
      ]
     },
     "metadata": {},
     "output_type": "display_data"
    }
   ],
   "source": [
    "np.log(classes_per_teacher).hist();"
   ]
  },
  {
   "cell_type": "code",
   "execution_count": 27,
   "metadata": {
    "collapsed": true
   },
   "outputs": [],
   "source": [
    "teacher_by_level = [None] * 5\n",
    "    \n",
    "for i in range(5):\n",
    "    teacher_by_level[i] = (classes_per_teacher[(np.log(classes_per_teacher)>=i)\n",
    "                                             & (np.log(classes_per_teacher)<i+1)]\n",
    "                           .index.tolist())\n",
    "\n",
    "teacher_by_level[3].extend(teacher_by_level[4])\n",
    "teacher_by_level.pop(4);"
   ]
  },
  {
   "cell_type": "code",
   "execution_count": 28,
   "metadata": {
    "collapsed": true
   },
   "outputs": [],
   "source": [
    "def rate_teachers(teacher):\n",
    "    for i in range(4):\n",
    "        if teacher in teacher_by_level[i]:\n",
    "            return i+1\n",
    "        \n",
    "\n",
    "temp_class_df3['teacher_exp'] = temp_class_df3.teacher.apply(rate_teachers)"
   ]
  },
  {
   "cell_type": "code",
   "execution_count": 29,
   "metadata": {},
   "outputs": [
    {
     "data": {
      "text/plain": [
       "class_sku\n",
       "576876085     2\n",
       "1205014536    3\n",
       "1544174240    3\n",
       "2077240320    2\n",
       "1789656808    2\n",
       "Name: teacher_exp, dtype: int64"
      ]
     },
     "execution_count": 29,
     "metadata": {},
     "output_type": "execute_result"
    }
   ],
   "source": [
    "temp_class_df3.teacher_exp.head()"
   ]
  },
  {
   "cell_type": "markdown",
   "metadata": {},
   "source": [
    "## Convert Boolean to Numerical"
   ]
  },
  {
   "cell_type": "code",
   "execution_count": 30,
   "metadata": {
    "collapsed": true,
    "scrolled": true
   },
   "outputs": [],
   "source": [
    "temp_class_df3.paid_class = temp_class_df3.paid_class.astype('int32')\n",
    "temp_class_df3.sample_project = temp_class_df3.sample_project.astype('int32')"
   ]
  },
  {
   "cell_type": "code",
   "execution_count": 31,
   "metadata": {},
   "outputs": [
    {
     "data": {
      "text/html": [
       "<div>\n",
       "<style>\n",
       "    .dataframe thead tr:only-child th {\n",
       "        text-align: right;\n",
       "    }\n",
       "\n",
       "    .dataframe thead th {\n",
       "        text-align: left;\n",
       "    }\n",
       "\n",
       "    .dataframe tbody tr th {\n",
       "        vertical-align: top;\n",
       "    }\n",
       "</style>\n",
       "<table border=\"1\" class=\"dataframe\">\n",
       "  <thead>\n",
       "    <tr style=\"text-align: right;\">\n",
       "      <th></th>\n",
       "      <th>paid_class</th>\n",
       "      <th>sample_project</th>\n",
       "    </tr>\n",
       "    <tr>\n",
       "      <th>class_sku</th>\n",
       "      <th></th>\n",
       "      <th></th>\n",
       "    </tr>\n",
       "  </thead>\n",
       "  <tbody>\n",
       "    <tr>\n",
       "      <th>576876085</th>\n",
       "      <td>1</td>\n",
       "      <td>1</td>\n",
       "    </tr>\n",
       "    <tr>\n",
       "      <th>1205014536</th>\n",
       "      <td>1</td>\n",
       "      <td>0</td>\n",
       "    </tr>\n",
       "    <tr>\n",
       "      <th>1544174240</th>\n",
       "      <td>1</td>\n",
       "      <td>0</td>\n",
       "    </tr>\n",
       "    <tr>\n",
       "      <th>2077240320</th>\n",
       "      <td>1</td>\n",
       "      <td>1</td>\n",
       "    </tr>\n",
       "    <tr>\n",
       "      <th>1789656808</th>\n",
       "      <td>1</td>\n",
       "      <td>1</td>\n",
       "    </tr>\n",
       "  </tbody>\n",
       "</table>\n",
       "</div>"
      ],
      "text/plain": [
       "            paid_class  sample_project\n",
       "class_sku                             \n",
       "576876085            1               1\n",
       "1205014536           1               0\n",
       "1544174240           1               0\n",
       "2077240320           1               1\n",
       "1789656808           1               1"
      ]
     },
     "execution_count": 31,
     "metadata": {},
     "output_type": "execute_result"
    }
   ],
   "source": [
    "temp_class_df3.loc[:,['paid_class', 'sample_project']].head()"
   ]
  },
  {
   "cell_type": "markdown",
   "metadata": {},
   "source": [
    "## Last check before EDA"
   ]
  },
  {
   "cell_type": "code",
   "execution_count": 32,
   "metadata": {},
   "outputs": [
    {
     "name": "stdout",
     "output_type": "stream",
     "text": [
      "<class 'pandas.core.frame.DataFrame'>\n",
      "Int64Index: 7658 entries, 576876085 to 759834501\n",
      "Data columns (total 54 columns):\n",
      "class_length                      7658 non-null object\n",
      "class_name                        7658 non-null object\n",
      "class_type                        7658 non-null object\n",
      "description_image_number          7658 non-null int64\n",
      "description_length                7658 non-null int64\n",
      "description_link_number           7658 non-null int64\n",
      "enrollment_number                 7658 non-null object\n",
      "paid_class                        7658 non-null int32\n",
      "sample_project                    7658 non-null int32\n",
      "start_date                        7658 non-null datetime64[ns]\n",
      "tags                              7658 non-null object\n",
      "teacher                           7658 non-null object\n",
      "teacher_profile                   7658 non-null object\n",
      "teacher_title                     7383 non-null object\n",
      "class_type_animation              7658 non-null uint8\n",
      "class_type_business-analytics     7658 non-null uint8\n",
      "class_type_crafts                 7658 non-null uint8\n",
      "class_type_culinary               7658 non-null uint8\n",
      "class_type_data-science           7658 non-null uint8\n",
      "class_type_entrepreneurship       7658 non-null uint8\n",
      "class_type_film-production        7658 non-null uint8\n",
      "class_type_finance                7658 non-null uint8\n",
      "class_type_fine-art               7658 non-null uint8\n",
      "class_type_freelance              7658 non-null uint8\n",
      "class_type_game-design            7658 non-null uint8\n",
      "class_type_gaming                 7658 non-null uint8\n",
      "class_type_graphic-design         7658 non-null uint8\n",
      "class_type_health-and-wellness    7658 non-null uint8\n",
      "class_type_home-business          7658 non-null uint8\n",
      "class_type_human-resources        7658 non-null uint8\n",
      "class_type_illustration           7658 non-null uint8\n",
      "class_type_it-security            7658 non-null uint8\n",
      "class_type_languages              7658 non-null uint8\n",
      "class_type_leadership             7658 non-null uint8\n",
      "class_type_management             7658 non-null uint8\n",
      "class_type_marketing              7658 non-null uint8\n",
      "class_type_mobile-development     7658 non-null uint8\n",
      "class_type_music-production       7658 non-null uint8\n",
      "class_type_other                  7658 non-null uint8\n",
      "class_type_photography            7658 non-null uint8\n",
      "class_type_product-management     7658 non-null uint8\n",
      "class_type_productivity           7658 non-null uint8\n",
      "class_type_sales                  7658 non-null uint8\n",
      "class_type_teaching               7658 non-null uint8\n",
      "class_type_ui-ux-design           7658 non-null uint8\n",
      "class_type_web-development        7658 non-null uint8\n",
      "class_type_writing                7658 non-null uint8\n",
      "tag_num                           7658 non-null int64\n",
      "days_since_started                7658 non-null int64\n",
      "video_num                         7658 non-null int32\n",
      "video_hr                          7658 non-null object\n",
      "video_min                         7658 non-null object\n",
      "class_length_min                  7658 non-null int32\n",
      "teacher_exp                       7658 non-null int64\n",
      "dtypes: datetime64[ns](1), int32(4), int64(6), object(10), uint8(33)\n",
      "memory usage: 1.7+ MB\n"
     ]
    }
   ],
   "source": [
    "temp_class_df3.info()"
   ]
  },
  {
   "cell_type": "markdown",
   "metadata": {},
   "source": [
    "# EDA"
   ]
  },
  {
   "cell_type": "markdown",
   "metadata": {},
   "source": [
    "## Teacher Experience Distribution on Class Level"
   ]
  },
  {
   "cell_type": "code",
   "execution_count": 33,
   "metadata": {},
   "outputs": [
    {
     "data": {
      "image/png": "[encoded data removed]",
      "text/plain": [
       "<matplotlib.figure.Figure at 0x22d25c44a90>"
      ]
     },
     "metadata": {},
     "output_type": "display_data"
    }
   ],
   "source": [
    "temp_class_df3.teacher_exp.hist();\n",
    "plt.xticks([1,2,3,4],['New', 'Entry Level', 'Experienced', 'Super']);\n",
    "plt.grid(False);\n",
    "plt.title(\"Histogram of Experience Level of Teacher/Class\");\n",
    "plt.xlabel(\"Teacher Experience Level\");\n",
    "plt.ylabel(\"Number of Classes\");"
   ]
  },
  {
   "cell_type": "markdown",
   "metadata": {},
   "source": [
    "## Class description length (in terms of number of charactors)"
   ]
  },
  {
   "cell_type": "code",
   "execution_count": 34,
   "metadata": {},
   "outputs": [
    {
     "data": {
      "image/png": "[encoded data removed]",
      "text/plain": [
       "<matplotlib.figure.Figure at 0x22d25f08be0>"
      ]
     },
     "metadata": {},
     "output_type": "display_data"
    }
   ],
   "source": [
    "#temp_class_df3.loc[temp_class_df3.description_length.sort_values(ascending=False).head(10).index.tolist()[4]]\n",
    "temp_class_df3.description_length.hist();\n",
    "plt.grid(False);\n",
    "plt.title(\"Number of Characters in 'About This Class' Section Histogram\");\n",
    "plt.xlabel(\"Number of Characters in 'About This Class' Section\");\n",
    "plt.ylabel(\"Number of Classes\");"
   ]
  },
  {
   "cell_type": "code",
   "execution_count": 35,
   "metadata": {
    "collapsed": true
   },
   "outputs": [],
   "source": [
    "description_length_factors = [(0, (0, 6)), (1, (6, 8)), (2, (8, 15))]\n",
    "\n",
    "def rate_description_length(description_length):\n",
    "    if description_length == 0:\n",
    "        description_length = 1\n",
    "    log_trans = np.log(description_length)\n",
    "    for i in range(3):\n",
    "        if ((log_trans >= description_length_factors[i][1][0])\n",
    "            & (log_trans < description_length_factors[i][1][1])):\n",
    "            \n",
    "            return description_length_factors[i][0]\n",
    "\n",
    "temp_class_df3['description_length_fac'] = (temp_class_df3.description_length\n",
    "                                            .apply(rate_description_length))"
   ]
  },
  {
   "cell_type": "code",
   "execution_count": 36,
   "metadata": {
    "collapsed": true
   },
   "outputs": [],
   "source": [
    "temp_class_df4 = pd.concat([temp_class_df3,\n",
    "                            pd.get_dummies(temp_class_df3.description_length_fac, prefix=\"description\")],\n",
    "                           axis=1)"
   ]
  },
  {
   "cell_type": "code",
   "execution_count": 37,
   "metadata": {},
   "outputs": [
    {
     "data": {
      "image/png": "[encoded data removed]",
      "text/plain": [
       "<matplotlib.figure.Figure at 0x22d25d4b400>"
      ]
     },
     "metadata": {},
     "output_type": "display_data"
    }
   ],
   "source": [
    "temp_class_df4.description_length_fac.hist();\n",
    "plt.xticks(range(3), [\"too short\", \"normal\", \"too long\"])\n",
    "plt.grid(False);\n",
    "plt.title(\"Class Description Length Histogram\");\n",
    "plt.xlabel(\"Length of Class Description\")\n",
    "plt.ylabel(\"Number of Classes\");"
   ]
  },
  {
   "cell_type": "code",
   "execution_count": 38,
   "metadata": {},
   "outputs": [
    {
     "data": {
      "image/png": "[encoded data removed]",
      "text/plain": [
       "<matplotlib.figure.Figure at 0x22d25cfd710>"
      ]
     },
     "metadata": {},
     "output_type": "display_data"
    }
   ],
   "source": [
    "temp_class_df4.description_image_number.hist();\n",
    "plt.grid(False);\n",
    "plt.title(\"Number of images in 'About This Class' Section Histogram\");\n",
    "plt.xlabel(\"Number of images in 'About This Class' Section\");\n",
    "plt.ylabel(\"Number of Classes\");"
   ]
  },
  {
   "cell_type": "markdown",
   "metadata": {},
   "source": [
    "Turn this feature into Binary - Has (or not) Images In Classes Description"
   ]
  },
  {
   "cell_type": "code",
   "execution_count": 39,
   "metadata": {
    "collapsed": true
   },
   "outputs": [],
   "source": [
    "temp_class_df4['description_image_incl'] = ((temp_class_df4.description_image_number > 0)\n",
    "                                            .astype('int32'))"
   ]
  },
  {
   "cell_type": "code",
   "execution_count": 40,
   "metadata": {},
   "outputs": [
    {
     "data": {
      "image/png": "[encoded data removed]",
      "text/plain": [
       "<matplotlib.figure.Figure at 0x22d25f557f0>"
      ]
     },
     "metadata": {},
     "output_type": "display_data"
    }
   ],
   "source": [
    "#temp_class_df3.loc[temp_class_df3.description_link_number.sort_values(ascending=False).head().index.tolist()[0]]\n",
    "temp_class_df4.description_link_number.hist();\n",
    "plt.grid(False);\n",
    "plt.title(\"Number of hyperlinks in 'About This Class' Section Histogram\");\n",
    "plt.xlabel(\"Number of hyperlinks in 'About This Class' Section\");\n",
    "plt.ylabel(\"Number of Classes\");"
   ]
  },
  {
   "cell_type": "markdown",
   "metadata": {},
   "source": [
    "Turn this feature into Binary - Has (or not) Links In Classes Description"
   ]
  },
  {
   "cell_type": "code",
   "execution_count": 41,
   "metadata": {
    "collapsed": true
   },
   "outputs": [],
   "source": [
    "temp_class_df4['description_link_incl'] = ((temp_class_df4.description_link_number > 0)\n",
    "                                           .astype('int32'))"
   ]
  },
  {
   "cell_type": "markdown",
   "metadata": {},
   "source": [
    "## Class Video Length"
   ]
  },
  {
   "cell_type": "code",
   "execution_count": 42,
   "metadata": {},
   "outputs": [
    {
     "data": {
      "image/png": "[encoded data removed]",
      "text/plain": [
       "<matplotlib.figure.Figure at 0x22d254aa0f0>"
      ]
     },
     "metadata": {},
     "output_type": "display_data"
    }
   ],
   "source": [
    "temp_class_df4.video_num.hist(bins=range(0,100,1));\n",
    "plt.grid(False);\n",
    "plt.title(\"Number of class videos Distribution\");\n",
    "plt.xlabel(\"Number of clas videos\");\n",
    "plt.ylabel(\"Number of Classes\");"
   ]
  },
  {
   "cell_type": "code",
   "execution_count": 43,
   "metadata": {},
   "outputs": [
    {
     "data": {
      "image/png": "[encoded data removed]",
      "text/plain": [
       "<matplotlib.figure.Figure at 0x22d25e75780>"
      ]
     },
     "metadata": {},
     "output_type": "display_data"
    }
   ],
   "source": [
    "temp_class_df4.class_length_min.hist(bins=range(0,200,2));\n",
    "plt.grid(False);\n",
    "plt.title(\"Class Duration (min) Distribution\");\n",
    "plt.xlabel(\"Class Duration (min)\");\n",
    "plt.ylabel(\"Number of Classes\");"
   ]
  },
  {
   "cell_type": "code",
   "execution_count": 44,
   "metadata": {},
   "outputs": [
    {
     "data": {
      "text/plain": [
       "<matplotlib.text.Text at 0x22d25f65ef0>"
      ]
     },
     "execution_count": 44,
     "metadata": {},
     "output_type": "execute_result"
    },
    {
     "data": {
      "image/png": "[encoded data removed]",
      "text/plain": [
       "<matplotlib.figure.Figure at 0x22d2603ddd8>"
      ]
     },
     "metadata": {},
     "output_type": "display_data"
    }
   ],
   "source": [
    "temp_class_df4['class_length_min_log'] = np.log(temp_class_df4.class_length_min.replace({0:1}))\n",
    "temp_class_df4['class_length_min_log'].hist();\n",
    "plt.grid(False)\n",
    "plt.title(\"log transform of Class Duration (min) Distribution\")\n",
    "plt.xlabel(\"log(Class Duration (min))\")"
   ]
  },
  {
   "cell_type": "code",
   "execution_count": 45,
   "metadata": {},
   "outputs": [
    {
     "data": {
      "text/plain": [
       "<matplotlib.text.Text at 0x22d25579630>"
      ]
     },
     "execution_count": 45,
     "metadata": {},
     "output_type": "execute_result"
    },
    {
     "data": {
      "image/png": "[encoded data removed]",
      "text/plain": [
       "<matplotlib.figure.Figure at 0x22d25a1b6a0>"
      ]
     },
     "metadata": {},
     "output_type": "display_data"
    }
   ],
   "source": [
    "temp_class_df4.tag_num.hist();\n",
    "plt.grid(False)\n",
    "plt.title(\"Number of Tags Distribution\")\n",
    "plt.xlabel(\"Number of Tags\")"
   ]
  },
  {
   "cell_type": "markdown",
   "metadata": {
    "collapsed": true
   },
   "source": [
    "## How many classes has project provided by the teacher"
   ]
  },
  {
   "cell_type": "code",
   "execution_count": 46,
   "metadata": {},
   "outputs": [
    {
     "data": {
      "text/plain": [
       "sample_project\n",
       "0    6280\n",
       "1    1378\n",
       "Name: class_name, dtype: int64"
      ]
     },
     "execution_count": 46,
     "metadata": {},
     "output_type": "execute_result"
    }
   ],
   "source": [
    "temp_class_df4.groupby('sample_project')['class_name'].count()"
   ]
  },
  {
   "cell_type": "markdown",
   "metadata": {
    "collapsed": true
   },
   "source": [
    "## How many classes require membership"
   ]
  },
  {
   "cell_type": "code",
   "execution_count": 47,
   "metadata": {},
   "outputs": [
    {
     "data": {
      "text/plain": [
       "paid_class\n",
       "0     601\n",
       "1    7057\n",
       "Name: class_name, dtype: int64"
      ]
     },
     "execution_count": 47,
     "metadata": {},
     "output_type": "execute_result"
    }
   ],
   "source": [
    "temp_class_df4.groupby('paid_class')['class_name'].count()"
   ]
  },
  {
   "cell_type": "markdown",
   "metadata": {
    "collapsed": true
   },
   "source": [
    "## How long ago have classes started"
   ]
  },
  {
   "cell_type": "code",
   "execution_count": 48,
   "metadata": {},
   "outputs": [
    {
     "data": {
      "text/plain": [
       "<matplotlib.text.Text at 0x22d25992390>"
      ]
     },
     "execution_count": 48,
     "metadata": {},
     "output_type": "execute_result"
    },
    {
     "data": {
      "image/png": "[encoded data removed]",
      "text/plain": [
       "<matplotlib.figure.Figure at 0x22d259ec2e8>"
      ]
     },
     "metadata": {},
     "output_type": "display_data"
    }
   ],
   "source": [
    "temp_class_df4.days_since_started.hist();\n",
    "plt.grid(False);\n",
    "plt.title(\"Distribution of Days Since Class Started\");\n",
    "plt.xlabel(\"Days Since Class Started\");\n",
    "plt.ylabel(\"Number of Classes\")"
   ]
  },
  {
   "cell_type": "markdown",
   "metadata": {
    "collapsed": true
   },
   "source": [
    "## Class Enrollment\n",
    "\n",
    "* Class enrollment distrubtion is very right skewed. \n",
    "* Interested in predicting order of magnitude rather than exact number\n",
    "* Thus, log 10 transform is performed"
   ]
  },
  {
   "cell_type": "code",
   "execution_count": 49,
   "metadata": {
    "collapsed": true
   },
   "outputs": [],
   "source": [
    "temp_class_df4['temp'] = temp_class_df4.enrollment_number.str.replace(',','')\n",
    "temp_class_df4.enrollment_number = temp_class_df4['temp'].fillna(temp_class_df4.enrollment_number).astype(\"int64\")\n",
    "temp_class_df4 = temp_class_df4.drop('temp', axis=1)"
   ]
  },
  {
   "cell_type": "code",
   "execution_count": 50,
   "metadata": {},
   "outputs": [
    {
     "data": {
      "text/plain": [
       "<matplotlib.text.Text at 0x22d25f84550>"
      ]
     },
     "execution_count": 50,
     "metadata": {},
     "output_type": "execute_result"
    },
    {
     "data": {
      "image/png": "[encoded data removed]",
      "text/plain": [
       "<matplotlib.figure.Figure at 0x22d259eca58>"
      ]
     },
     "metadata": {},
     "output_type": "display_data"
    }
   ],
   "source": [
    "temp_class_df4.enrollment_number.hist();\n",
    "plt.grid(False)\n",
    "plt.title(\"Histogram of Class Enrollment\")\n",
    "plt.xlabel(\"Number of Student Enrolled\")\n",
    "plt.ylabel(\"Number of Classes\")"
   ]
  },
  {
   "cell_type": "code",
   "execution_count": 51,
   "metadata": {
    "collapsed": true
   },
   "outputs": [],
   "source": [
    "temp_class_df4['enrollment_number_log'] = np.log10(temp_class_df4\n",
    "                                                   .enrollment_number\n",
    "                                                   .replace({0:1}))"
   ]
  },
  {
   "cell_type": "code",
   "execution_count": 52,
   "metadata": {},
   "outputs": [
    {
     "data": {
      "text/plain": [
       "<matplotlib.text.Text at 0x22d25e0a358>"
      ]
     },
     "execution_count": 52,
     "metadata": {},
     "output_type": "execute_result"
    },
    {
     "data": {
      "image/png": "[encoded data removed]",
      "text/plain": [
       "<matplotlib.figure.Figure at 0x22d259ecc50>"
      ]
     },
     "metadata": {},
     "output_type": "display_data"
    }
   ],
   "source": [
    "sns.distplot(temp_class_df4.enrollment_number_log);#.hist();\n",
    "plt.grid(False)\n",
    "plt.title(\"Distribution of Log Transform of Enrollment\")\n",
    "plt.xlabel(\"Log10(students) Enrolled in Each Class\")\n",
    "plt.ylabel(\"Percent of Entire Sample\")"
   ]
  },
  {
   "cell_type": "code",
   "execution_count": 53,
   "metadata": {},
   "outputs": [
    {
     "name": "stdout",
     "output_type": "stream",
     "text": [
      "<class 'pandas.core.frame.DataFrame'>\n",
      "Int64Index: 7658 entries, 576876085 to 759834501\n",
      "Data columns (total 62 columns):\n",
      "class_length                      7658 non-null object\n",
      "class_name                        7658 non-null object\n",
      "class_type                        7658 non-null object\n",
      "description_image_number          7658 non-null int64\n",
      "description_length                7658 non-null int64\n",
      "description_link_number           7658 non-null int64\n",
      "enrollment_number                 7658 non-null int64\n",
      "paid_class                        7658 non-null int32\n",
      "sample_project                    7658 non-null int32\n",
      "start_date                        7658 non-null datetime64[ns]\n",
      "tags                              7658 non-null object\n",
      "teacher                           7658 non-null object\n",
      "teacher_profile                   7658 non-null object\n",
      "teacher_title                     7383 non-null object\n",
      "class_type_animation              7658 non-null uint8\n",
      "class_type_business-analytics     7658 non-null uint8\n",
      "class_type_crafts                 7658 non-null uint8\n",
      "class_type_culinary               7658 non-null uint8\n",
      "class_type_data-science           7658 non-null uint8\n",
      "class_type_entrepreneurship       7658 non-null uint8\n",
      "class_type_film-production        7658 non-null uint8\n",
      "class_type_finance                7658 non-null uint8\n",
      "class_type_fine-art               7658 non-null uint8\n",
      "class_type_freelance              7658 non-null uint8\n",
      "class_type_game-design            7658 non-null uint8\n",
      "class_type_gaming                 7658 non-null uint8\n",
      "class_type_graphic-design         7658 non-null uint8\n",
      "class_type_health-and-wellness    7658 non-null uint8\n",
      "class_type_home-business          7658 non-null uint8\n",
      "class_type_human-resources        7658 non-null uint8\n",
      "class_type_illustration           7658 non-null uint8\n",
      "class_type_it-security            7658 non-null uint8\n",
      "class_type_languages              7658 non-null uint8\n",
      "class_type_leadership             7658 non-null uint8\n",
      "class_type_management             7658 non-null uint8\n",
      "class_type_marketing              7658 non-null uint8\n",
      "class_type_mobile-development     7658 non-null uint8\n",
      "class_type_music-production       7658 non-null uint8\n",
      "class_type_other                  7658 non-null uint8\n",
      "class_type_photography            7658 non-null uint8\n",
      "class_type_product-management     7658 non-null uint8\n",
      "class_type_productivity           7658 non-null uint8\n",
      "class_type_sales                  7658 non-null uint8\n",
      "class_type_teaching               7658 non-null uint8\n",
      "class_type_ui-ux-design           7658 non-null uint8\n",
      "class_type_web-development        7658 non-null uint8\n",
      "class_type_writing                7658 non-null uint8\n",
      "tag_num                           7658 non-null int64\n",
      "days_since_started                7658 non-null int64\n",
      "video_num                         7658 non-null int32\n",
      "video_hr                          7658 non-null object\n",
      "video_min                         7658 non-null object\n",
      "class_length_min                  7658 non-null int32\n",
      "teacher_exp                       7658 non-null int64\n",
      "description_length_fac            7658 non-null int64\n",
      "description_0                     7658 non-null uint8\n",
      "description_1                     7658 non-null uint8\n",
      "description_2                     7658 non-null uint8\n",
      "description_image_incl            7658 non-null int32\n",
      "description_link_incl             7658 non-null int32\n",
      "class_length_min_log              7658 non-null float64\n",
      "enrollment_number_log             7658 non-null float64\n",
      "dtypes: datetime64[ns](1), float64(2), int32(6), int64(8), object(9), uint8(36)\n",
      "memory usage: 2.0+ MB\n"
     ]
    }
   ],
   "source": [
    "temp_class_df4.info()"
   ]
  },
  {
   "cell_type": "markdown",
   "metadata": {
    "scrolled": false
   },
   "source": [
    "## Finally dataframe used for fitting models"
   ]
  },
  {
   "cell_type": "code",
   "execution_count": 54,
   "metadata": {
    "collapsed": true
   },
   "outputs": [],
   "source": [
    "fit_data_df = temp_class_df4.drop(['class_length', 'class_name',\n",
    "                                   'class_length_min', 'video_num',\n",
    "                                   'description_image_number',\n",
    "                                   'description_length', \n",
    "                                   'description_link_number',\n",
    "                                   'enrollment_number', \n",
    "                                   'start_date','tags',\n",
    "                                   'teacher', 'teacher_profile',\n",
    "                                   'teacher_title', 'class_type',\n",
    "                                   'video_hr', 'video_min', \n",
    "                                   'description_2',\n",
    "                                  'description_length_fac'], axis=1)"
   ]
  },
  {
   "cell_type": "code",
   "execution_count": 69,
   "metadata": {
    "collapsed": true
   },
   "outputs": [],
   "source": [
    "pickle.dump(fit_data_df, open(\"fit_data.pickle\",'wb'))"
   ]
  },
  {
   "cell_type": "code",
   "execution_count": 55,
   "metadata": {},
   "outputs": [
    {
     "data": {
      "text/plain": [
       "['paid_class',\n",
       " 'sample_project',\n",
       " 'class_type_animation',\n",
       " 'class_type_business-analytics',\n",
       " 'class_type_crafts',\n",
       " 'class_type_culinary',\n",
       " 'class_type_data-science',\n",
       " 'class_type_entrepreneurship',\n",
       " 'class_type_film-production',\n",
       " 'class_type_finance',\n",
       " 'class_type_fine-art',\n",
       " 'class_type_freelance',\n",
       " 'class_type_game-design',\n",
       " 'class_type_gaming',\n",
       " 'class_type_graphic-design',\n",
       " 'class_type_health-and-wellness',\n",
       " 'class_type_home-business',\n",
       " 'class_type_human-resources',\n",
       " 'class_type_illustration',\n",
       " 'class_type_it-security',\n",
       " 'class_type_languages',\n",
       " 'class_type_leadership',\n",
       " 'class_type_management',\n",
       " 'class_type_marketing',\n",
       " 'class_type_mobile-development',\n",
       " 'class_type_music-production',\n",
       " 'class_type_other',\n",
       " 'class_type_photography',\n",
       " 'class_type_product-management',\n",
       " 'class_type_productivity',\n",
       " 'class_type_sales',\n",
       " 'class_type_teaching',\n",
       " 'class_type_ui-ux-design',\n",
       " 'class_type_web-development',\n",
       " 'class_type_writing',\n",
       " 'tag_num',\n",
       " 'days_since_started',\n",
       " 'teacher_exp',\n",
       " 'description_0',\n",
       " 'description_1',\n",
       " 'description_image_incl',\n",
       " 'description_link_incl',\n",
       " 'class_length_min_log',\n",
       " 'enrollment_number_log']"
      ]
     },
     "execution_count": 55,
     "metadata": {},
     "output_type": "execute_result"
    }
   ],
   "source": [
    "list(fit_data_df.columns)"
   ]
  },
  {
   "cell_type": "markdown",
   "metadata": {},
   "source": [
    "# Regression"
   ]
  },
  {
   "cell_type": "markdown",
   "metadata": {},
   "source": [
    "## Linear model with time as the only feature"
   ]
  },
  {
   "cell_type": "code",
   "execution_count": 56,
   "metadata": {
    "collapsed": true
   },
   "outputs": [],
   "source": [
    "X = fit_data_df.loc[:,list(fit_data_df.columns)[:-1]]\n",
    "y = fit_data_df.enrollment_number_log"
   ]
  },
  {
   "cell_type": "code",
   "execution_count": 57,
   "metadata": {
    "collapsed": true
   },
   "outputs": [],
   "source": [
    "X_train, X_test, y_train, y_test = train_test_split(X, y, test_size = 0.2)"
   ]
  },
  {
   "cell_type": "code",
   "execution_count": 58,
   "metadata": {},
   "outputs": [
    {
     "name": "stdout",
     "output_type": "stream",
     "text": [
      "the R-sqaure for this model is :\n",
      "0.324314836859\n"
     ]
    }
   ],
   "source": [
    "selected_columns_1 = ['days_since_started']\n",
    "lr_model1 = linear_model.LinearRegression(normalize=True)\n",
    "lr_model1.fit(X_train[selected_columns_1],y_train)\n",
    "print(\"the R-sqaure for this model is :\")\n",
    "print(lr_model1.score(X_test[selected_columns_1], y_test))"
   ]
  },
  {
   "cell_type": "markdown",
   "metadata": {},
   "source": [
    "## Adding all features and tried different regularization"
   ]
  },
  {
   "cell_type": "code",
   "execution_count": 59,
   "metadata": {
    "collapsed": true
   },
   "outputs": [],
   "source": [
    "X_train, y_train = np.array(X_train), np.array(y_train)\n",
    "X_test, y_test = np.array(X_test), np.array(y_test)"
   ]
  },
  {
   "cell_type": "code",
   "execution_count": 60,
   "metadata": {
    "collapsed": true
   },
   "outputs": [],
   "source": [
    "models_1 = {}\n",
    "models_1['lin_reg'] = {'model': linear_model.LinearRegression(normalize=True)}\n",
    "models_1['ridge'] = {'model': linear_model.Ridge(normalize=True)}\n",
    "models_1['lasso'] = {'model': linear_model.Lasso(normalize=True)}\n",
    "models_1['elasticnet'] = {'model': linear_model.ElasticNet(normalize=True)}\n",
    "\n",
    "models_2 = {}\n",
    "models_2['lin_reg'] = {'model': linear_model.LinearRegression(normalize=True)}\n",
    "models_2['ridge'] = {'model': linear_model.Ridge(normalize=True)}\n",
    "models_2['lasso'] = {'model': linear_model.Lasso(normalize=True)}\n",
    "models_2['elasticnet'] = {'model': linear_model.ElasticNet(normalize=True)}"
   ]
  },
  {
   "cell_type": "code",
   "execution_count": 61,
   "metadata": {},
   "outputs": [
    {
     "name": "stdout",
     "output_type": "stream",
     "text": [
      "lin_reg\n",
      "R^2: 0.63909 \n",
      "\n",
      "ridge\n",
      "optimal alpha: 3.59e-05\n",
      "R^2: 0.63909 \n",
      "\n",
      "lasso\n",
      "optimal alpha: 5.99e-06\n",
      "R^2: 0.63905 \n",
      "\n",
      "elasticnet\n",
      "optimal alpha: 2.26e-06\n",
      "R^2: 0.63890 \n",
      "\n"
     ]
    }
   ],
   "source": [
    "#run the CV\n",
    "X, y = X_train, y_train\n",
    "alpha_list = 10 ** np.linspace(-6, 1, 100)\n",
    "\n",
    "kf = KFold(n_splits=5, shuffle=True)\n",
    "#cv_lm_r2s, cv_lm_reg_r2s = [], [] #collect the validation results for both models\n",
    "\n",
    "for key in models_1.keys():\n",
    "    \n",
    "    lm = models_1[key]['model']\n",
    "    \n",
    "    if key == 'lin_reg':\n",
    "        lm.fit(X, y)\n",
    "        print(key)\n",
    "        print(\"R^2:\", \"{:.5f}\".format(lm.score(X, y)), \"\\n\")\n",
    "        continue\n",
    "           \n",
    "    error_score = np.zeros_like(alpha_list)   \n",
    "    for idx, alpha in enumerate(alpha_list):\n",
    "        \n",
    "        for train_ind, val_ind in kf.split(X, y):\n",
    "            \n",
    "            lm.alpha = alpha\n",
    "            lm.fit(X[train_ind],y[train_ind])\n",
    "            Y_pred = lm.predict(X[val_ind])\n",
    "            error_score[idx] += np.sqrt(mean_squared_error(y[val_ind], Y_pred))\n",
    "            \n",
    "    optimal_alpha = alpha_list[np.argmin(error_score)]\n",
    "    lm = models_1[key]['model']\n",
    "    lm.alpha = optimal_alpha\n",
    "    models_1[key]['model'] = lm\n",
    "    lm.fit(X, y)\n",
    "    print(key)\n",
    "    print(\"optimal alpha:\", \"{:.2e}\".format(optimal_alpha))\n",
    "    print(\"R^2:\", \"{:.5f}\".format(lm.score(X, y)), \"\\n\")\n",
    "    "
   ]
  },
  {
   "cell_type": "code",
   "execution_count": 62,
   "metadata": {
    "collapsed": true
   },
   "outputs": [],
   "source": [
    "poly = preprocessing.PolynomialFeatures(degree=2)\n",
    "X_train_poly = poly.fit_transform(X_train)\n",
    "X_test_poly = poly.fit_transform(X_test)"
   ]
  },
  {
   "cell_type": "code",
   "execution_count": 63,
   "metadata": {},
   "outputs": [
    {
     "name": "stdout",
     "output_type": "stream",
     "text": [
      "lin_reg\n",
      "R^2: 0.71845 \n",
      "\n",
      "ridge\n",
      "optimal alpha: 1.48e-02\n",
      "R^2: 0.71295 \n",
      "\n"
     ]
    },
    {
     "name": "stderr",
     "output_type": "stream",
     "text": [
      "C:\\ProgramData\\Anaconda3\\lib\\site-packages\\sklearn\\linear_model\\coordinate_descent.py:484: ConvergenceWarning: Objective did not converge. You might want to increase the number of iterations. Fitting data with very small alpha may cause precision problems.\n",
      "  ConvergenceWarning)\n"
     ]
    },
    {
     "name": "stdout",
     "output_type": "stream",
     "text": [
      "lasso\n",
      "optimal alpha: 1.59e-05\n",
      "R^2: 0.70890 \n",
      "\n",
      "elasticnet\n",
      "optimal alpha: 9.77e-06\n",
      "R^2: 0.70445 \n",
      "\n"
     ]
    }
   ],
   "source": [
    "#run the CV\n",
    "X, y = X_train_poly, y_train\n",
    "alpha_list = 10 ** np.linspace(-6, 1, 100)\n",
    "\n",
    "kf = KFold(n_splits=5, shuffle=True)\n",
    "#cv_lm_r2s, cv_lm_reg_r2s = [], [] #collect the validation results for both models\n",
    "\n",
    "for key in models_2.keys():\n",
    "    \n",
    "    lm = models_2[key]['model']\n",
    "    \n",
    "    if key == 'lin_reg':\n",
    "        lm.fit(X, y)\n",
    "        print(key)\n",
    "        print(\"R^2:\", \"{:.5f}\".format(lm.score(X, y)), \"\\n\")\n",
    "        continue\n",
    "           \n",
    "    error_score = np.zeros_like(alpha_list)   \n",
    "    for idx, alpha in enumerate(alpha_list):\n",
    "        \n",
    "        for train_ind, val_ind in kf.split(X, y):\n",
    "            \n",
    "            lm.alpha = alpha\n",
    "            lm.fit(X[train_ind],y[train_ind])\n",
    "            Y_pred = lm.predict(X[val_ind])\n",
    "            error_score[idx] += np.sqrt(mean_squared_error(y[val_ind], Y_pred))\n",
    "            \n",
    "    optimal_alpha = alpha_list[np.argmin(error_score)]\n",
    "    lm = models_2[key]['model']\n",
    "    lm.alpha = optimal_alpha\n",
    "    models_2[key]['model'] = lm\n",
    "    lm.fit(X, y)\n",
    "    print(key)\n",
    "    print(\"optimal alpha:\", \"{:.2e}\".format(optimal_alpha))\n",
    "    print(\"R^2:\", \"{:.5f}\".format(lm.score(X, y)), \"\\n\")\n",
    "    "
   ]
  },
  {
   "cell_type": "markdown",
   "metadata": {},
   "source": [
    "## Residual Plot for Linear Regression (no regularization) "
   ]
  },
  {
   "cell_type": "code",
   "execution_count": 64,
   "metadata": {},
   "outputs": [
    {
     "data": {
      "image/png": "[encoded data removed]",
      "text/plain": [
       "<matplotlib.figure.Figure at 0x22d2609a240>"
      ]
     },
     "metadata": {},
     "output_type": "display_data"
    }
   ],
   "source": [
    "lm = models_1['lin_reg']['model']\n",
    "Y_pred = lm.predict(X_test)\n",
    "plt.scatter(y_test,y_test-Y_pred,alpha=.1);\n",
    "plt.ylim([-1.5,2.5]);\n",
    "plt.plot(np.linspace(0,4,1000),np.linspace(0,0,1000));\n",
    "plt.title('Linear Regression/No Regularization Residual Plot');\n",
    "plt.xlabel('Predicted Value');\n",
    "plt.ylabel('Residual');\n",
    "plt.xticks(range(5), [10**i for i in range(5)]);\n",
    "plt.yticks(range(-2,3), [10**i for i in range(-2,3)]);"
   ]
  },
  {
   "cell_type": "markdown",
   "metadata": {},
   "source": [
    "## Residual Plot for 2nd Degree Polynomial (no regularization)"
   ]
  },
  {
   "cell_type": "code",
   "execution_count": 65,
   "metadata": {},
   "outputs": [
    {
     "data": {
      "image/png": "[encoded data removed]",
      "text/plain": [
       "<matplotlib.figure.Figure at 0x22d25785470>"
      ]
     },
     "metadata": {},
     "output_type": "display_data"
    }
   ],
   "source": [
    "lm = models_2['lin_reg']['model']\n",
    "Y_pred = lm.predict(X_test_poly)\n",
    "plt.scatter(y_test,y_test-Y_pred,alpha=.1);\n",
    "plt.ylim([-1.5,2.5]);\n",
    "plt.plot(np.linspace(0,4,1000),np.linspace(0,0,1000));\n",
    "plt.title('2nd Polynomial Regression/No Regularization Residual Plot');\n",
    "plt.xlabel('Predicted Value');\n",
    "plt.ylabel('Residual');\n",
    "plt.xticks(range(5), [10**i for i in range(5)]);\n",
    "plt.yticks(range(-2,3), [10**i for i in range(-2,3)]);"
   ]
  },
  {
   "cell_type": "markdown",
   "metadata": {},
   "source": [
    "For the ease of intepretation, linear regression without regularization is chosen. Below are the significant features with positive and negative effect."
   ]
  },
  {
   "cell_type": "code",
   "execution_count": 66,
   "metadata": {
    "collapsed": true
   },
   "outputs": [],
   "source": [
    "coef = models_1['lin_reg']['model'].coef_"
   ]
  },
  {
   "cell_type": "code",
   "execution_count": null,
   "metadata": {
    "collapsed": true
   },
   "outputs": [],
   "source": []
  },
  {
   "cell_type": "code",
   "execution_count": 67,
   "metadata": {},
   "outputs": [
    {
     "data": {
      "text/html": [
       "<div>\n",
       "<style>\n",
       "    .dataframe thead tr:only-child th {\n",
       "        text-align: right;\n",
       "    }\n",
       "\n",
       "    .dataframe thead th {\n",
       "        text-align: left;\n",
       "    }\n",
       "\n",
       "    .dataframe tbody tr th {\n",
       "        vertical-align: top;\n",
       "    }\n",
       "</style>\n",
       "<table border=\"1\" class=\"dataframe\">\n",
       "  <thead>\n",
       "    <tr style=\"text-align: right;\">\n",
       "      <th></th>\n",
       "      <th>Coefficients</th>\n",
       "      <th>Feature</th>\n",
       "    </tr>\n",
       "  </thead>\n",
       "  <tbody>\n",
       "    <tr>\n",
       "      <th>14</th>\n",
       "      <td>1.259518</td>\n",
       "      <td>class_type_graphic-design</td>\n",
       "    </tr>\n",
       "    <tr>\n",
       "      <th>23</th>\n",
       "      <td>1.197993</td>\n",
       "      <td>class_type_marketing</td>\n",
       "    </tr>\n",
       "    <tr>\n",
       "      <th>18</th>\n",
       "      <td>1.052801</td>\n",
       "      <td>class_type_illustration</td>\n",
       "    </tr>\n",
       "    <tr>\n",
       "      <th>27</th>\n",
       "      <td>1.020079</td>\n",
       "      <td>class_type_photography</td>\n",
       "    </tr>\n",
       "    <tr>\n",
       "      <th>32</th>\n",
       "      <td>0.877773</td>\n",
       "      <td>class_type_ui-ux-design</td>\n",
       "    </tr>\n",
       "    <tr>\n",
       "      <th>4</th>\n",
       "      <td>0.761380</td>\n",
       "      <td>class_type_crafts</td>\n",
       "    </tr>\n",
       "    <tr>\n",
       "      <th>2</th>\n",
       "      <td>0.745512</td>\n",
       "      <td>class_type_animation</td>\n",
       "    </tr>\n",
       "    <tr>\n",
       "      <th>8</th>\n",
       "      <td>0.621036</td>\n",
       "      <td>class_type_film-production</td>\n",
       "    </tr>\n",
       "    <tr>\n",
       "      <th>33</th>\n",
       "      <td>0.609689</td>\n",
       "      <td>class_type_web-development</td>\n",
       "    </tr>\n",
       "    <tr>\n",
       "      <th>29</th>\n",
       "      <td>0.560165</td>\n",
       "      <td>class_type_productivity</td>\n",
       "    </tr>\n",
       "  </tbody>\n",
       "</table>\n",
       "</div>"
      ],
      "text/plain": [
       "    Coefficients                     Feature\n",
       "14      1.259518   class_type_graphic-design\n",
       "23      1.197993        class_type_marketing\n",
       "18      1.052801     class_type_illustration\n",
       "27      1.020079      class_type_photography\n",
       "32      0.877773     class_type_ui-ux-design\n",
       "4       0.761380           class_type_crafts\n",
       "2       0.745512        class_type_animation\n",
       "8       0.621036  class_type_film-production\n",
       "33      0.609689  class_type_web-development\n",
       "29      0.560165     class_type_productivity"
      ]
     },
     "execution_count": 67,
     "metadata": {},
     "output_type": "execute_result"
    }
   ],
   "source": [
    "X = fit_data_df.loc[:,list(fit_data_df.columns)[:-1]]\n",
    "y = fit_data_df.enrollment_number_log\n",
    "(pd.DataFrame({\"Feature\":X.columns,\"Coefficients\":np.transpose(coef)})\n",
    "                .sort_values('Coefficients', ascending=False)\n",
    "                .head(10))\n",
    "\n"
   ]
  },
  {
   "cell_type": "code",
   "execution_count": 68,
   "metadata": {},
   "outputs": [
    {
     "data": {
      "text/html": [
       "<div>\n",
       "<style>\n",
       "    .dataframe thead tr:only-child th {\n",
       "        text-align: right;\n",
       "    }\n",
       "\n",
       "    .dataframe thead th {\n",
       "        text-align: left;\n",
       "    }\n",
       "\n",
       "    .dataframe tbody tr th {\n",
       "        vertical-align: top;\n",
       "    }\n",
       "</style>\n",
       "<table border=\"1\" class=\"dataframe\">\n",
       "  <thead>\n",
       "    <tr style=\"text-align: right;\">\n",
       "      <th></th>\n",
       "      <th>Coefficients</th>\n",
       "      <th>Feature</th>\n",
       "    </tr>\n",
       "  </thead>\n",
       "  <tbody>\n",
       "    <tr>\n",
       "      <th>24</th>\n",
       "      <td>-0.058929</td>\n",
       "      <td>class_type_mobile-development</td>\n",
       "    </tr>\n",
       "    <tr>\n",
       "      <th>12</th>\n",
       "      <td>-0.067569</td>\n",
       "      <td>class_type_game-design</td>\n",
       "    </tr>\n",
       "    <tr>\n",
       "      <th>28</th>\n",
       "      <td>-0.071008</td>\n",
       "      <td>class_type_product-management</td>\n",
       "    </tr>\n",
       "    <tr>\n",
       "      <th>19</th>\n",
       "      <td>-0.091030</td>\n",
       "      <td>class_type_it-security</td>\n",
       "    </tr>\n",
       "    <tr>\n",
       "      <th>22</th>\n",
       "      <td>-0.096552</td>\n",
       "      <td>class_type_management</td>\n",
       "    </tr>\n",
       "    <tr>\n",
       "      <th>17</th>\n",
       "      <td>-0.110346</td>\n",
       "      <td>class_type_human-resources</td>\n",
       "    </tr>\n",
       "    <tr>\n",
       "      <th>38</th>\n",
       "      <td>-0.167963</td>\n",
       "      <td>description_0</td>\n",
       "    </tr>\n",
       "    <tr>\n",
       "      <th>20</th>\n",
       "      <td>-0.187982</td>\n",
       "      <td>class_type_languages</td>\n",
       "    </tr>\n",
       "    <tr>\n",
       "      <th>6</th>\n",
       "      <td>-0.222683</td>\n",
       "      <td>class_type_data-science</td>\n",
       "    </tr>\n",
       "    <tr>\n",
       "      <th>0</th>\n",
       "      <td>-0.300345</td>\n",
       "      <td>paid_class</td>\n",
       "    </tr>\n",
       "  </tbody>\n",
       "</table>\n",
       "</div>"
      ],
      "text/plain": [
       "    Coefficients                        Feature\n",
       "24     -0.058929  class_type_mobile-development\n",
       "12     -0.067569         class_type_game-design\n",
       "28     -0.071008  class_type_product-management\n",
       "19     -0.091030         class_type_it-security\n",
       "22     -0.096552          class_type_management\n",
       "17     -0.110346     class_type_human-resources\n",
       "38     -0.167963                  description_0\n",
       "20     -0.187982           class_type_languages\n",
       "6      -0.222683        class_type_data-science\n",
       "0      -0.300345                     paid_class"
      ]
     },
     "execution_count": 68,
     "metadata": {},
     "output_type": "execute_result"
    }
   ],
   "source": [
    "(pd.DataFrame({\"Feature\":X.columns,\"Coefficients\":np.transpose(coef)})\n",
    "                .sort_values('Coefficients', ascending=False)\n",
    "                .tail(10))\n"
   ]
  },
  {
   "cell_type": "code",
   "execution_count": null,
   "metadata": {
    "collapsed": true
   },
   "outputs": [],
   "source": []
  }
 ],
 "metadata": {
  "kernelspec": {
   "display_name": "Python 3",
   "language": "python",
   "name": "python3"
  },
  "language_info": {
   "codemirror_mode": {
    "name": "ipython",
    "version": 3
   },
   "file_extension": ".py",
   "mimetype": "text/x-python",
   "name": "python",
   "nbconvert_exporter": "python",
   "pygments_lexer": "ipython3",
   "version": "3.6.1"
  }
 },
 "nbformat": 4,
 "nbformat_minor": 2
}
