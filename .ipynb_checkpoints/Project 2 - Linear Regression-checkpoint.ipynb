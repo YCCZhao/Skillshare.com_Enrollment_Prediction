{
 "cells": [
  {
   "cell_type": "code",
   "execution_count": 1,
   "metadata": {},
   "outputs": [
    {
     "name": "stderr",
     "output_type": "stream",
     "text": [
      "/Users/yunshizhao/anaconda3/lib/python3.6/site-packages/statsmodels/compat/pandas.py:56: FutureWarning: The pandas.core.datetools module is deprecated and will be removed in a future version. Please use the pandas.tseries module instead.\n",
      "  from pandas.core import datetools\n"
     ]
    }
   ],
   "source": [
    "# Necessary imports\n",
    "import re\n",
    "import pandas as pd\n",
    "import numpy as np\n",
    "import statsmodels.api as sm\n",
    "import statsmodels.formula.api as smf\n",
    "import patsy\n",
    "import matplotlib.pyplot as plt\n",
    "import seaborn as sns\n",
    "import pickle\n",
    "import glob\n",
    "import datetime\n",
    "sns.set()\n",
    "\n",
    "from sklearn import linear_model \n",
    "#from sklearn.linear_model import LinearRegression\n",
    "#from sklearn.linear_model import RidgeCV\n",
    "from sklearn.model_selection import KFold, train_test_split\n",
    "from sklearn.metrics import mean_squared_error\n",
    "from sklearn import preprocessing\n",
    "\n",
    "%matplotlib inline"
   ]
  },
  {
   "cell_type": "code",
   "execution_count": 2,
   "metadata": {
    "collapsed": true
   },
   "outputs": [],
   "source": [
    "class_types = pickle.load(open(\"class_types.pickle\", \"rb\"))"
   ]
  },
  {
   "cell_type": "code",
   "execution_count": 3,
   "metadata": {},
   "outputs": [],
   "source": [
    "#urls_dict = pickle.load(open(\"urls.pickle\", \"rb\"))\n",
    "data = pickle.load(open(\"./done/fine-art.pickle\", \"rb\"))\n",
    "temp_class_df = pd.DataFrame.from_dict(data)\n",
    "temp_class_df['class_type'] = \"fine-art\"\n",
    "    \n",
    "for class_type in class_types:\n",
    "    try:\n",
    "        pickle_name = \"./done/\"+class_type+\".pickle\"\n",
    "        data = pickle.load(open(pickle_name, \"rb\"))\n",
    "        this_class_df = pd.DataFrame.from_dict(data)\n",
    "        this_class_df['class_type'] = class_type\n",
    "        \n",
    "        #print(class_type, len(data['class_name']), 'out of', len(urls_dict[class_type]))\n",
    "        temp_class_df = pd.concat([temp_class_df, this_class_df], ignore_index=True)\n",
    "        \n",
    "    except:\n",
    "        #print(class_type)\n",
    "        continue"
   ]
  },
  {
   "cell_type": "markdown",
   "metadata": {},
   "source": [
    "# Data Cleaning\n",
    "## Data Summary"
   ]
  },
  {
   "cell_type": "code",
   "execution_count": 4,
   "metadata": {},
   "outputs": [
    {
     "name": "stdout",
     "output_type": "stream",
     "text": [
      "<class 'pandas.core.frame.DataFrame'>\n",
      "RangeIndex: 8727 entries, 0 to 8726\n",
      "Data columns (total 15 columns):\n",
      "class_length                8727 non-null object\n",
      "class_name                  8727 non-null object\n",
      "class_sku                   8727 non-null int64\n",
      "class_type                  8727 non-null object\n",
      "description_image_number    8727 non-null int64\n",
      "description_length          8727 non-null int64\n",
      "description_link_number     8727 non-null int64\n",
      "enrollment_number           8727 non-null object\n",
      "paid_class                  8727 non-null bool\n",
      "sample_project              8727 non-null bool\n",
      "start_date                  8727 non-null object\n",
      "tags                        8727 non-null object\n",
      "teacher                     8727 non-null object\n",
      "teacher_profile             8727 non-null object\n",
      "teacher_title               8414 non-null object\n",
      "dtypes: bool(2), int64(4), object(9)\n",
      "memory usage: 903.5+ KB\n"
     ]
    }
   ],
   "source": [
    "temp_class_df.info()"
   ]
  },
  {
   "cell_type": "code",
   "execution_count": 5,
   "metadata": {},
   "outputs": [],
   "source": [
    "# Saving columns name for later use\n",
    "columns = list(temp_class_df.columns)"
   ]
  },
  {
   "cell_type": "code",
   "execution_count": 6,
   "metadata": {},
   "outputs": [
    {
     "data": {
      "text/plain": [
       "True"
      ]
     },
     "execution_count": 6,
     "metadata": {},
     "output_type": "execute_result"
    }
   ],
   "source": [
    "# Checking if all 34 types of classes loaded\n",
    "temp_class_df.class_type.nunique() == 34"
   ]
  },
  {
   "cell_type": "markdown",
   "metadata": {},
   "source": [
    "## Duplicate Classes"
   ]
  },
  {
   "cell_type": "code",
   "execution_count": 7,
   "metadata": {},
   "outputs": [
    {
     "name": "stdout",
     "output_type": "stream",
     "text": [
      "unique class title: 7418\n",
      "unique class sku: 7658\n"
     ]
    }
   ],
   "source": [
    "print('unique class title:', temp_class_df.class_name.nunique())\n",
    "print('unique class sku:', temp_class_df.class_sku.nunique())"
   ]
  },
  {
   "cell_type": "code",
   "execution_count": 8,
   "metadata": {},
   "outputs": [],
   "source": [
    "# Auditing duplicate class\n",
    "duplicate_class_example = (temp_class_df.groupby('class_sku')['class_name']\n",
    "                           .count()\n",
    "                           .sort_values(ascending=False)\n",
    "                           .head(1)\n",
    "                           .index\n",
    "                           .tolist()[0])"
   ]
  },
  {
   "cell_type": "code",
   "execution_count": 9,
   "metadata": {},
   "outputs": [
    {
     "data": {
      "text/html": [
       "<div>\n",
       "<style>\n",
       "    .dataframe thead tr:only-child th {\n",
       "        text-align: right;\n",
       "    }\n",
       "\n",
       "    .dataframe thead th {\n",
       "        text-align: left;\n",
       "    }\n",
       "\n",
       "    .dataframe tbody tr th {\n",
       "        vertical-align: top;\n",
       "    }\n",
       "</style>\n",
       "<table border=\"1\" class=\"dataframe\">\n",
       "  <thead>\n",
       "    <tr style=\"text-align: right;\">\n",
       "      <th></th>\n",
       "      <th>class_length</th>\n",
       "      <th>class_name</th>\n",
       "      <th>class_sku</th>\n",
       "      <th>class_type</th>\n",
       "      <th>description_image_number</th>\n",
       "      <th>description_length</th>\n",
       "      <th>description_link_number</th>\n",
       "      <th>enrollment_number</th>\n",
       "      <th>paid_class</th>\n",
       "      <th>sample_project</th>\n",
       "      <th>start_date</th>\n",
       "      <th>tags</th>\n",
       "      <th>teacher</th>\n",
       "      <th>teacher_profile</th>\n",
       "      <th>teacher_title</th>\n",
       "    </tr>\n",
       "  </thead>\n",
       "  <tbody>\n",
       "    <tr>\n",
       "      <th>4225</th>\n",
       "      <td>15 Videos (1h 10m)</td>\n",
       "      <td>Skillshare - NewClasses</td>\n",
       "      <td>1054246865</td>\n",
       "      <td>management</td>\n",
       "      <td>0</td>\n",
       "      <td>3875</td>\n",
       "      <td>0</td>\n",
       "      <td>9</td>\n",
       "      <td>True</td>\n",
       "      <td>False</td>\n",
       "      <td>10/05/2017</td>\n",
       "      <td>[Business, Communication, Human Resources, Man...</td>\n",
       "      <td>Joeel and Natalie Rivera</td>\n",
       "      <td>https://www.skillshare.com/user/transformation...</td>\n",
       "      <td></td>\n",
       "    </tr>\n",
       "    <tr>\n",
       "      <th>4684</th>\n",
       "      <td>15 Videos (1h 10m)</td>\n",
       "      <td>Skillshare - NewClasses</td>\n",
       "      <td>1054246865</td>\n",
       "      <td>leadership</td>\n",
       "      <td>0</td>\n",
       "      <td>3875</td>\n",
       "      <td>0</td>\n",
       "      <td>9</td>\n",
       "      <td>True</td>\n",
       "      <td>False</td>\n",
       "      <td>10/05/2017</td>\n",
       "      <td>[Business, Communication, Human Resources, Man...</td>\n",
       "      <td>Joeel and Natalie Rivera</td>\n",
       "      <td>https://www.skillshare.com/user/transformation...</td>\n",
       "      <td></td>\n",
       "    </tr>\n",
       "    <tr>\n",
       "      <th>5028</th>\n",
       "      <td>15 Videos (1h 10m)</td>\n",
       "      <td>Skillshare - NewClasses</td>\n",
       "      <td>1054246865</td>\n",
       "      <td>human-resources</td>\n",
       "      <td>0</td>\n",
       "      <td>3875</td>\n",
       "      <td>0</td>\n",
       "      <td>9</td>\n",
       "      <td>True</td>\n",
       "      <td>False</td>\n",
       "      <td>10/05/2017</td>\n",
       "      <td>[Business, Communication, Human Resources, Man...</td>\n",
       "      <td>Joeel and Natalie Rivera</td>\n",
       "      <td>https://www.skillshare.com/user/transformation...</td>\n",
       "      <td></td>\n",
       "    </tr>\n",
       "    <tr>\n",
       "      <th>6506</th>\n",
       "      <td>15 Videos (1h 10m)</td>\n",
       "      <td>Skillshare - NewClasses</td>\n",
       "      <td>1054246865</td>\n",
       "      <td>product-management</td>\n",
       "      <td>0</td>\n",
       "      <td>3875</td>\n",
       "      <td>0</td>\n",
       "      <td>9</td>\n",
       "      <td>True</td>\n",
       "      <td>False</td>\n",
       "      <td>10/05/2017</td>\n",
       "      <td>[Business, Communication, Human Resources, Man...</td>\n",
       "      <td>Joeel and Natalie Rivera</td>\n",
       "      <td>https://www.skillshare.com/user/transformation...</td>\n",
       "      <td></td>\n",
       "    </tr>\n",
       "  </tbody>\n",
       "</table>\n",
       "</div>"
      ],
      "text/plain": [
       "            class_length               class_name   class_sku  \\\n",
       "4225  15 Videos (1h 10m)  Skillshare - NewClasses  1054246865   \n",
       "4684  15 Videos (1h 10m)  Skillshare - NewClasses  1054246865   \n",
       "5028  15 Videos (1h 10m)  Skillshare - NewClasses  1054246865   \n",
       "6506  15 Videos (1h 10m)  Skillshare - NewClasses  1054246865   \n",
       "\n",
       "              class_type  description_image_number  description_length  \\\n",
       "4225          management                         0                3875   \n",
       "4684          leadership                         0                3875   \n",
       "5028     human-resources                         0                3875   \n",
       "6506  product-management                         0                3875   \n",
       "\n",
       "      description_link_number enrollment_number  paid_class  sample_project  \\\n",
       "4225                        0                 9        True           False   \n",
       "4684                        0                 9        True           False   \n",
       "5028                        0                 9        True           False   \n",
       "6506                        0                 9        True           False   \n",
       "\n",
       "      start_date                                               tags  \\\n",
       "4225  10/05/2017  [Business, Communication, Human Resources, Man...   \n",
       "4684  10/05/2017  [Business, Communication, Human Resources, Man...   \n",
       "5028  10/05/2017  [Business, Communication, Human Resources, Man...   \n",
       "6506  10/05/2017  [Business, Communication, Human Resources, Man...   \n",
       "\n",
       "                       teacher  \\\n",
       "4225  Joeel and Natalie Rivera   \n",
       "4684  Joeel and Natalie Rivera   \n",
       "5028  Joeel and Natalie Rivera   \n",
       "6506  Joeel and Natalie Rivera   \n",
       "\n",
       "                                        teacher_profile teacher_title  \n",
       "4225  https://www.skillshare.com/user/transformation...                \n",
       "4684  https://www.skillshare.com/user/transformation...                \n",
       "5028  https://www.skillshare.com/user/transformation...                \n",
       "6506  https://www.skillshare.com/user/transformation...                "
      ]
     },
     "execution_count": 9,
     "metadata": {},
     "output_type": "execute_result"
    }
   ],
   "source": [
    "#temp_class_df = temp_class_df.drop_duplicates(['class_sku', 'class_type'])\n",
    "temp_class_df[temp_class_df.class_sku == duplicate_class_example]"
   ]
  },
  {
   "cell_type": "markdown",
   "metadata": {},
   "source": [
    "Same class shown in different class type section.\n",
    "Solution:\n",
    "* create dummy variables for class type\n",
    "* add values of dummy class type varaibles for the same class"
   ]
  },
  {
   "cell_type": "code",
   "execution_count": 10,
   "metadata": {},
   "outputs": [],
   "source": [
    "temp_class_df1 = pd.concat([temp_class_df,\n",
    "                            pd.get_dummies(temp_class_df.class_type, prefix=\"class_type\")],\n",
    "                           axis=1\n",
    "                          )"
   ]
  },
  {
   "cell_type": "code",
   "execution_count": 11,
   "metadata": {},
   "outputs": [
    {
     "name": "stdout",
     "output_type": "stream",
     "text": [
      "Is number of new columns equal the number of class types?\n"
     ]
    },
    {
     "data": {
      "text/plain": [
       "True"
      ]
     },
     "execution_count": 11,
     "metadata": {},
     "output_type": "execute_result"
    }
   ],
   "source": [
    "old_col_num = len(columns)\n",
    "new_cols = list(temp_class_df1.columns)\n",
    "new_cols_num = len(new_cols)\n",
    "\n",
    "print(\"Is number of new columns equal the number of class types?\")\n",
    "(new_cols_num - old_col_num) == 34"
   ]
  },
  {
   "cell_type": "code",
   "execution_count": 12,
   "metadata": {},
   "outputs": [
    {
     "name": "stdout",
     "output_type": "stream",
     "text": [
      "<class 'pandas.core.frame.DataFrame'>\n",
      "Int64Index: 7658 entries, 576876085 to 759834501\n",
      "Data columns (total 47 columns):\n",
      "class_length                      7658 non-null object\n",
      "class_name                        7658 non-null object\n",
      "class_type                        7658 non-null object\n",
      "description_image_number          7658 non-null int64\n",
      "description_length                7658 non-null int64\n",
      "description_link_number           7658 non-null int64\n",
      "enrollment_number                 7658 non-null object\n",
      "paid_class                        7658 non-null bool\n",
      "sample_project                    7658 non-null bool\n",
      "start_date                        7658 non-null object\n",
      "tags                              7658 non-null object\n",
      "teacher                           7658 non-null object\n",
      "teacher_profile                   7658 non-null object\n",
      "teacher_title                     7383 non-null object\n",
      "class_type_animation              7658 non-null uint8\n",
      "class_type_business-analytics     7658 non-null uint8\n",
      "class_type_crafts                 7658 non-null uint8\n",
      "class_type_culinary               7658 non-null uint8\n",
      "class_type_data-science           7658 non-null uint8\n",
      "class_type_entrepreneurship       7658 non-null uint8\n",
      "class_type_film-production        7658 non-null uint8\n",
      "class_type_finance                7658 non-null uint8\n",
      "class_type_fine-art               7658 non-null uint8\n",
      "class_type_freelance              7658 non-null uint8\n",
      "class_type_game-design            7658 non-null uint8\n",
      "class_type_gaming                 7658 non-null uint8\n",
      "class_type_graphic-design         7658 non-null uint8\n",
      "class_type_health-and-wellness    7658 non-null uint8\n",
      "class_type_home-business          7658 non-null uint8\n",
      "class_type_human-resources        7658 non-null uint8\n",
      "class_type_illustration           7658 non-null uint8\n",
      "class_type_it-security            7658 non-null uint8\n",
      "class_type_languages              7658 non-null uint8\n",
      "class_type_leadership             7658 non-null uint8\n",
      "class_type_management             7658 non-null uint8\n",
      "class_type_marketing              7658 non-null uint8\n",
      "class_type_mobile-development     7658 non-null uint8\n",
      "class_type_music-production       7658 non-null uint8\n",
      "class_type_other                  7658 non-null uint8\n",
      "class_type_photography            7658 non-null uint8\n",
      "class_type_product-management     7658 non-null uint8\n",
      "class_type_productivity           7658 non-null uint8\n",
      "class_type_sales                  7658 non-null uint8\n",
      "class_type_teaching               7658 non-null uint8\n",
      "class_type_ui-ux-design           7658 non-null uint8\n",
      "class_type_web-development        7658 non-null uint8\n",
      "class_type_writing                7658 non-null uint8\n",
      "dtypes: bool(2), int64(3), object(9), uint8(33)\n",
      "memory usage: 1.3+ MB\n"
     ]
    }
   ],
   "source": [
    "combined_class_type = temp_class_df1.groupby('class_sku',as_index=False)[new_cols[old_col_num+1:]].sum()\n",
    "deleted_duplicate_class = temp_class_df.drop_duplicates('class_sku')\n",
    "\n",
    "# temp_class_df2 contains class type dummy variables\n",
    "temp_class_df2 = (deleted_duplicate_class.set_index('class_sku')\n",
    "                  .join(combined_class_type.set_index('class_sku')))\n",
    "\n",
    "temp_class_df2.info()"
   ]
  },
  {
   "cell_type": "code",
   "execution_count": 13,
   "metadata": {},
   "outputs": [
    {
     "data": {
      "text/plain": [
       "class_sku\n",
       "2147098797    1\n",
       "Name: class_name, dtype: int64"
      ]
     },
     "execution_count": 13,
     "metadata": {},
     "output_type": "execute_result"
    }
   ],
   "source": [
    "# Checking if no duplicate classes\n",
    "(temp_class_df2.groupby('class_sku')['class_name']\n",
    " .count()\n",
    " .sort_values(ascending=False)\n",
    " .head(1))"
   ]
  },
  {
   "cell_type": "markdown",
   "metadata": {},
   "source": [
    "## The Tags Column is a list\n",
    "\n",
    "* Add a columns of number of tags\n",
    "* Check number of unique tags\n",
    "* Create dummy variables for most used tags only due to large amount of unique tags"
   ]
  },
  {
   "cell_type": "code",
   "execution_count": 14,
   "metadata": {},
   "outputs": [],
   "source": [
    "temp_class_df2['tag_num'] = temp_class_df2.tags.apply(lambda x: len(x))"
   ]
  },
  {
   "cell_type": "code",
   "execution_count": null,
   "metadata": {},
   "outputs": [],
   "source": [
    "# create a dataframe with dummy variables for all tags\n",
    "flatten_tags_df = (pd.get_dummies(temp_class_df2.tags.apply(pd.Series)\n",
    "                                  .stack(), prefix=\"tag\")\n",
    "                   .sum(level=0))"
   ]
  },
  {
   "cell_type": "code",
   "execution_count": null,
   "metadata": {},
   "outputs": [],
   "source": [
    "# extract the ## must used tags and include these dummy variables only\n",
    "top_tag_num = 100\n",
    "top_tags =(flatten_tags_df.sum()\n",
    "           .sort_values(ascending=False)\n",
    "           .head(top_tag_num)\n",
    "           .index.tolist())\n",
    "\n",
    "#top_tags"
   ]
  },
  {
   "cell_type": "code",
   "execution_count": 15,
   "metadata": {},
   "outputs": [],
   "source": [
    "# append tag dummy variables\n",
    "temp_class_df3 = temp_class_df2\n",
    "#temp_class_df3 = temp_class_df2.join(flatten_tags_df[top_tags])\n",
    "#temp_class_df3.columns.tolist()"
   ]
  },
  {
   "cell_type": "markdown",
   "metadata": {},
   "source": [
    "# Enrollment accumlated since classes started, and start date varies\n",
    "\n",
    "* Add a column of days between classes start date and 1/31/2018"
   ]
  },
  {
   "cell_type": "code",
   "execution_count": 16,
   "metadata": {},
   "outputs": [],
   "source": [
    "temp_class_df3['start_date'] = pd.to_datetime(temp_class_df3['start_date'])\n",
    "\n",
    "# up until 1/31/2018\n",
    "temp_class_df3['days_since_started'] = ((datetime.date.today() - temp_class_df3.start_date)\n",
    "                                        .dt.days)\n",
    "\n",
    "first_class_sku = (temp_class_df3['days_since_started']\n",
    "                   .sort_values(ascending=False)\n",
    "                   .index.tolist()[0])"
   ]
  },
  {
   "cell_type": "code",
   "execution_count": 17,
   "metadata": {},
   "outputs": [
    {
     "data": {
      "text/plain": [
       "'Minimum Viable Product: Validate Your Startup Idea for Less than $1,000'"
      ]
     },
     "execution_count": 17,
     "metadata": {},
     "output_type": "execute_result"
    }
   ],
   "source": [
    "# curious what is the first class on Skillshare.com\n",
    "temp_class_df3.loc[first_class_sku,:]['class_name']"
   ]
  },
  {
   "cell_type": "markdown",
   "metadata": {},
   "source": [
    "## Class length is a string containing number of videos and length of all videos\n",
    "* Add a column of number of videos of the class\n",
    "* Add a column of total video length in minutes"
   ]
  },
  {
   "cell_type": "code",
   "execution_count": 18,
   "metadata": {},
   "outputs": [],
   "source": [
    "def extract_hour(row):\n",
    "    match = re.search('(\\d+)(?=h)', row)\n",
    "    if match:\n",
    "        return match.group(0)\n",
    "    else:\n",
    "        return 0 \n",
    "    \n",
    "def extract_min(row):\n",
    "    match = re.search('(\\d+)(?=m)', row)\n",
    "    if match:\n",
    "        return match.group(0)\n",
    "    else:\n",
    "        return 0 "
   ]
  },
  {
   "cell_type": "code",
   "execution_count": 19,
   "metadata": {},
   "outputs": [],
   "source": [
    "temp_class_df3['video_num'] = (temp_class_df3.class_length\n",
    "                               .apply(lambda x: re.search('(\\d*)', x).group(0))\n",
    "                               .astype('int32'))"
   ]
  },
  {
   "cell_type": "code",
   "execution_count": 20,
   "metadata": {},
   "outputs": [],
   "source": [
    "temp_class_df3['video_hr'] = temp_class_df3.class_length.apply(extract_hour)\n",
    "temp_class_df3['video_min'] = temp_class_df3.class_length.apply(extract_min)"
   ]
  },
  {
   "cell_type": "code",
   "execution_count": 21,
   "metadata": {},
   "outputs": [],
   "source": [
    "temp_class_df3['class_length_min'] = (temp_class_df3.video_hr.astype('int32')*60 \n",
    "                                     + temp_class_df3.video_min.astype('int32'))"
   ]
  },
  {
   "cell_type": "code",
   "execution_count": 22,
   "metadata": {},
   "outputs": [
    {
     "data": {
      "text/html": [
       "<div>\n",
       "<style>\n",
       "    .dataframe thead tr:only-child th {\n",
       "        text-align: right;\n",
       "    }\n",
       "\n",
       "    .dataframe thead th {\n",
       "        text-align: left;\n",
       "    }\n",
       "\n",
       "    .dataframe tbody tr th {\n",
       "        vertical-align: top;\n",
       "    }\n",
       "</style>\n",
       "<table border=\"1\" class=\"dataframe\">\n",
       "  <thead>\n",
       "    <tr style=\"text-align: right;\">\n",
       "      <th></th>\n",
       "      <th>class_length</th>\n",
       "      <th>video_num</th>\n",
       "      <th>class_length_min</th>\n",
       "    </tr>\n",
       "    <tr>\n",
       "      <th>class_sku</th>\n",
       "      <th></th>\n",
       "      <th></th>\n",
       "      <th></th>\n",
       "    </tr>\n",
       "  </thead>\n",
       "  <tbody>\n",
       "    <tr>\n",
       "      <th>576876085</th>\n",
       "      <td>11 Videos (2h 20m)</td>\n",
       "      <td>11</td>\n",
       "      <td>140</td>\n",
       "    </tr>\n",
       "    <tr>\n",
       "      <th>1205014536</th>\n",
       "      <td>11 Videos (55m)</td>\n",
       "      <td>11</td>\n",
       "      <td>55</td>\n",
       "    </tr>\n",
       "    <tr>\n",
       "      <th>1544174240</th>\n",
       "      <td>12 Videos (54m)</td>\n",
       "      <td>12</td>\n",
       "      <td>54</td>\n",
       "    </tr>\n",
       "    <tr>\n",
       "      <th>2077240320</th>\n",
       "      <td>12 Videos (3h 48m)</td>\n",
       "      <td>12</td>\n",
       "      <td>228</td>\n",
       "    </tr>\n",
       "    <tr>\n",
       "      <th>1789656808</th>\n",
       "      <td>8 Videos (1h 21m)</td>\n",
       "      <td>8</td>\n",
       "      <td>81</td>\n",
       "    </tr>\n",
       "  </tbody>\n",
       "</table>\n",
       "</div>"
      ],
      "text/plain": [
       "                  class_length  video_num  class_length_min\n",
       "class_sku                                                  \n",
       "576876085   11 Videos (2h 20m)         11               140\n",
       "1205014536     11 Videos (55m)         11                55\n",
       "1544174240     12 Videos (54m)         12                54\n",
       "2077240320  12 Videos (3h 48m)         12               228\n",
       "1789656808   8 Videos (1h 21m)          8                81"
      ]
     },
     "execution_count": 22,
     "metadata": {},
     "output_type": "execute_result"
    }
   ],
   "source": [
    "# checking if calculation is correct\n",
    "temp_class_df3[['class_length', 'video_num', 'class_length_min']].head()"
   ]
  },
  {
   "cell_type": "markdown",
   "metadata": {},
   "source": [
    "## Turning each teacher into a dummy variables would overfit the model\n",
    "* group teachers based on number of classes taught by each teacher"
   ]
  },
  {
   "cell_type": "code",
   "execution_count": 23,
   "metadata": {},
   "outputs": [],
   "source": [
    "classes_per_teacher = (temp_class_df3.groupby('teacher')['class_name']\n",
    "                       .count()\n",
    "                       .sort_values(ascending=False))\n",
    "\n",
    "teachers = classes_per_teacher.index.tolist()"
   ]
  },
  {
   "cell_type": "code",
   "execution_count": 24,
   "metadata": {},
   "outputs": [
    {
     "data": {
      "image/png": "[encoded data removed]",
      "text/plain": [
       "<matplotlib.figure.Figure at 0x1111d3a90>"
      ]
     },
     "metadata": {},
     "output_type": "display_data"
    }
   ],
   "source": [
    "classes_per_teacher.hist();#.describe()"
   ]
  },
  {
   "cell_type": "code",
   "execution_count": 25,
   "metadata": {},
   "outputs": [
    {
     "data": {
      "image/png": "[encoded data removed]",
      "text/plain": [
       "<matplotlib.figure.Figure at 0x1c22d904e0>"
      ]
     },
     "metadata": {},
     "output_type": "display_data"
    }
   ],
   "source": [
    "np.log(classes_per_teacher).hist();"
   ]
  },
  {
   "cell_type": "code",
   "execution_count": 26,
   "metadata": {},
   "outputs": [],
   "source": [
    "teacher_by_level = [None] * 5\n",
    "    \n",
    "for i in range(5):\n",
    "    teacher_by_level[i] = (classes_per_teacher[(np.log(classes_per_teacher)>=i)\n",
    "                                             & (np.log(classes_per_teacher)<i+1)]\n",
    "                           .index.tolist())\n",
    "\n",
    "teacher_by_level[3].extend(teacher_by_level[4])\n",
    "teacher_by_level.pop(4);"
   ]
  },
  {
   "cell_type": "code",
   "execution_count": 27,
   "metadata": {
    "collapsed": true
   },
   "outputs": [],
   "source": [
    "def rate_teachers(teacher):\n",
    "    for i in range(4):\n",
    "        if teacher in teacher_by_level[i]:\n",
    "            return i+1\n",
    "        \n",
    "\n",
    "temp_class_df3['teacher_exp'] = temp_class_df3.teacher.apply(rate_teachers)"
   ]
  },
  {
   "cell_type": "code",
   "execution_count": 28,
   "metadata": {},
   "outputs": [
    {
     "data": {
      "text/plain": [
       "class_sku\n",
       "576876085     2\n",
       "1205014536    3\n",
       "1544174240    3\n",
       "2077240320    2\n",
       "1789656808    2\n",
       "Name: teacher_exp, dtype: int64"
      ]
     },
     "execution_count": 28,
     "metadata": {},
     "output_type": "execute_result"
    }
   ],
   "source": [
    "temp_class_df3.teacher_exp.head()"
   ]
  },
  {
   "cell_type": "markdown",
   "metadata": {},
   "source": [
    "## Convert Boolean to Numerical"
   ]
  },
  {
   "cell_type": "code",
   "execution_count": 29,
   "metadata": {
    "scrolled": true
   },
   "outputs": [],
   "source": [
    "temp_class_df3.paid_class = temp_class_df3.paid_class.astype('int32')\n",
    "temp_class_df3.sample_project = temp_class_df3.sample_project.astype('int32')"
   ]
  },
  {
   "cell_type": "code",
   "execution_count": 30,
   "metadata": {},
   "outputs": [
    {
     "data": {
      "text/html": [
       "<div>\n",
       "<style>\n",
       "    .dataframe thead tr:only-child th {\n",
       "        text-align: right;\n",
       "    }\n",
       "\n",
       "    .dataframe thead th {\n",
       "        text-align: left;\n",
       "    }\n",
       "\n",
       "    .dataframe tbody tr th {\n",
       "        vertical-align: top;\n",
       "    }\n",
       "</style>\n",
       "<table border=\"1\" class=\"dataframe\">\n",
       "  <thead>\n",
       "    <tr style=\"text-align: right;\">\n",
       "      <th></th>\n",
       "      <th>paid_class</th>\n",
       "      <th>sample_project</th>\n",
       "    </tr>\n",
       "    <tr>\n",
       "      <th>class_sku</th>\n",
       "      <th></th>\n",
       "      <th></th>\n",
       "    </tr>\n",
       "  </thead>\n",
       "  <tbody>\n",
       "    <tr>\n",
       "      <th>576876085</th>\n",
       "      <td>1</td>\n",
       "      <td>1</td>\n",
       "    </tr>\n",
       "    <tr>\n",
       "      <th>1205014536</th>\n",
       "      <td>1</td>\n",
       "      <td>0</td>\n",
       "    </tr>\n",
       "    <tr>\n",
       "      <th>1544174240</th>\n",
       "      <td>1</td>\n",
       "      <td>0</td>\n",
       "    </tr>\n",
       "    <tr>\n",
       "      <th>2077240320</th>\n",
       "      <td>1</td>\n",
       "      <td>1</td>\n",
       "    </tr>\n",
       "    <tr>\n",
       "      <th>1789656808</th>\n",
       "      <td>1</td>\n",
       "      <td>1</td>\n",
       "    </tr>\n",
       "  </tbody>\n",
       "</table>\n",
       "</div>"
      ],
      "text/plain": [
       "            paid_class  sample_project\n",
       "class_sku                             \n",
       "576876085            1               1\n",
       "1205014536           1               0\n",
       "1544174240           1               0\n",
       "2077240320           1               1\n",
       "1789656808           1               1"
      ]
     },
     "execution_count": 30,
     "metadata": {},
     "output_type": "execute_result"
    }
   ],
   "source": [
    "temp_class_df3.loc[:,['paid_class', 'sample_project']].head()"
   ]
  },
  {
   "cell_type": "markdown",
   "metadata": {},
   "source": [
    "## Last check before EDA"
   ]
  },
  {
   "cell_type": "code",
   "execution_count": 31,
   "metadata": {},
   "outputs": [
    {
     "name": "stdout",
     "output_type": "stream",
     "text": [
      "<class 'pandas.core.frame.DataFrame'>\n",
      "Int64Index: 7658 entries, 576876085 to 759834501\n",
      "Data columns (total 54 columns):\n",
      "class_length                      7658 non-null object\n",
      "class_name                        7658 non-null object\n",
      "class_type                        7658 non-null object\n",
      "description_image_number          7658 non-null int64\n",
      "description_length                7658 non-null int64\n",
      "description_link_number           7658 non-null int64\n",
      "enrollment_number                 7658 non-null object\n",
      "paid_class                        7658 non-null int32\n",
      "sample_project                    7658 non-null int32\n",
      "start_date                        7658 non-null datetime64[ns]\n",
      "tags                              7658 non-null object\n",
      "teacher                           7658 non-null object\n",
      "teacher_profile                   7658 non-null object\n",
      "teacher_title                     7383 non-null object\n",
      "class_type_animation              7658 non-null uint8\n",
      "class_type_business-analytics     7658 non-null uint8\n",
      "class_type_crafts                 7658 non-null uint8\n",
      "class_type_culinary               7658 non-null uint8\n",
      "class_type_data-science           7658 non-null uint8\n",
      "class_type_entrepreneurship       7658 non-null uint8\n",
      "class_type_film-production        7658 non-null uint8\n",
      "class_type_finance                7658 non-null uint8\n",
      "class_type_fine-art               7658 non-null uint8\n",
      "class_type_freelance              7658 non-null uint8\n",
      "class_type_game-design            7658 non-null uint8\n",
      "class_type_gaming                 7658 non-null uint8\n",
      "class_type_graphic-design         7658 non-null uint8\n",
      "class_type_health-and-wellness    7658 non-null uint8\n",
      "class_type_home-business          7658 non-null uint8\n",
      "class_type_human-resources        7658 non-null uint8\n",
      "class_type_illustration           7658 non-null uint8\n",
      "class_type_it-security            7658 non-null uint8\n",
      "class_type_languages              7658 non-null uint8\n",
      "class_type_leadership             7658 non-null uint8\n",
      "class_type_management             7658 non-null uint8\n",
      "class_type_marketing              7658 non-null uint8\n",
      "class_type_mobile-development     7658 non-null uint8\n",
      "class_type_music-production       7658 non-null uint8\n",
      "class_type_other                  7658 non-null uint8\n",
      "class_type_photography            7658 non-null uint8\n",
      "class_type_product-management     7658 non-null uint8\n",
      "class_type_productivity           7658 non-null uint8\n",
      "class_type_sales                  7658 non-null uint8\n",
      "class_type_teaching               7658 non-null uint8\n",
      "class_type_ui-ux-design           7658 non-null uint8\n",
      "class_type_web-development        7658 non-null uint8\n",
      "class_type_writing                7658 non-null uint8\n",
      "tag_num                           7658 non-null int64\n",
      "days_since_started                7658 non-null int64\n",
      "video_num                         7658 non-null int32\n",
      "video_hr                          7658 non-null object\n",
      "video_min                         7658 non-null object\n",
      "class_length_min                  7658 non-null int32\n",
      "teacher_exp                       7658 non-null int64\n",
      "dtypes: datetime64[ns](1), int32(4), int64(6), object(10), uint8(33)\n",
      "memory usage: 1.7+ MB\n"
     ]
    }
   ],
   "source": [
    "temp_class_df3.info()"
   ]
  },
  {
   "cell_type": "markdown",
   "metadata": {},
   "source": [
    "# EDA"
   ]
  },
  {
   "cell_type": "markdown",
   "metadata": {},
   "source": [
    "## Teacher Experience Distribution on Class Level"
   ]
  },
  {
   "cell_type": "code",
   "execution_count": 215,
   "metadata": {},
   "outputs": [
    {
     "data": {
      "image/png": "[encoded data removed]",
      "text/plain": [
       "<matplotlib.figure.Figure at 0x1c28beb978>"
      ]
     },
     "metadata": {},
     "output_type": "display_data"
    }
   ],
   "source": [
    "temp_class_df3.teacher_exp.hist();\n",
    "plt.xticks([1,2,3,4],['New', 'Entry Level', 'Experienced', 'Super']);\n",
    "plt.grid(False)"
   ]
  },
  {
   "cell_type": "markdown",
   "metadata": {},
   "source": [
    "## Class description length (in terms of number of charactors)"
   ]
  },
  {
   "cell_type": "code",
   "execution_count": 108,
   "metadata": {},
   "outputs": [
    {
     "data": {
      "text/plain": [
       "Text(0.5,0,\"Number of Characters in 'About This Class' Section\")"
      ]
     },
     "execution_count": 108,
     "metadata": {},
     "output_type": "execute_result"
    },
    {
     "data": {
      "image/png": "[encoded data removed]",
      "text/plain": [
       "<matplotlib.figure.Figure at 0x1c22e2ad68>"
      ]
     },
     "metadata": {},
     "output_type": "display_data"
    }
   ],
   "source": [
    "#temp_class_df3.loc[temp_class_df3.description_length.sort_values(ascending=False).head(10).index.tolist()[4]]\n",
    "temp_class_df3.description_length.hist();\n",
    "plt.grid(False)\n",
    "plt.title(\"Number of Characters in 'About This Class' Section Distribution\")\n",
    "plt.xlabel(\"Number of Characters in 'About This Class' Section\")"
   ]
  },
  {
   "cell_type": "code",
   "execution_count": 109,
   "metadata": {},
   "outputs": [
    {
     "data": {
      "text/plain": [
       "Text(0.5,0,\"log(Number) of Characters in 'About This Class' Section\")"
      ]
     },
     "execution_count": 109,
     "metadata": {},
     "output_type": "execute_result"
    },
    {
     "data": {
      "image/png": "[encoded data removed]",
      "text/plain": [
       "<matplotlib.figure.Figure at 0x1c22dc3668>"
      ]
     },
     "metadata": {},
     "output_type": "display_data"
    }
   ],
   "source": [
    "np.log(temp_class_df3.description_length.replace({0:1})).hist();\n",
    "plt.grid(False)\n",
    "plt.title(\"Number of Characters in 'About This Class' Section Distribution\")\n",
    "plt.xlabel(\"log(Number) of Characters in 'About This Class' Section\")"
   ]
  },
  {
   "cell_type": "code",
   "execution_count": 112,
   "metadata": {},
   "outputs": [],
   "source": [
    "description_length_factors = [(0, (0, 6)), (1, (6, 8)), (2, (8, 15))]\n",
    "\n",
    "def rate_description_length(description_length):\n",
    "    if description_length == 0:\n",
    "        description_length = 1\n",
    "    log_trans = np.log(description_length)\n",
    "    for i in range(3):\n",
    "        if ((log_trans >= description_length_factors[i][1][0])\n",
    "            & (log_trans < description_length_factors[i][1][1])):\n",
    "            \n",
    "            return description_length_factors[i][0]\n",
    "\n",
    "temp_class_df3['description_length_fac'] = (temp_class_df3.description_length\n",
    "                                            .apply(rate_description_length))"
   ]
  },
  {
   "cell_type": "code",
   "execution_count": 113,
   "metadata": {},
   "outputs": [
    {
     "data": {
      "text/plain": [
       "Text(0.5,0,\"Number of images in 'About This Class' Section\")"
      ]
     },
     "execution_count": 113,
     "metadata": {},
     "output_type": "execute_result"
    },
    {
     "data": {
      "image/png": "[encoded data removed]",
      "text/plain": [
       "<matplotlib.figure.Figure at 0x1c22d909e8>"
      ]
     },
     "metadata": {},
     "output_type": "display_data"
    }
   ],
   "source": [
    "temp_class_df3.description_image_number.hist();\n",
    "plt.grid(False)\n",
    "plt.title(\"Number of images in 'About This Class' Section Distribution\")\n",
    "plt.xlabel(\"Number of images in 'About This Class' Section\")"
   ]
  },
  {
   "cell_type": "code",
   "execution_count": 37,
   "metadata": {},
   "outputs": [
    {
     "data": {
      "image/png": "[encoded data removed]",
      "text/plain": [
       "<matplotlib.figure.Figure at 0x1111d3f28>"
      ]
     },
     "metadata": {},
     "output_type": "display_data"
    }
   ],
   "source": [
    "np.log(temp_class_df3.description_image_number.replace({0:1})).hist();\n"
   ]
  },
  {
   "cell_type": "code",
   "execution_count": 38,
   "metadata": {
    "collapsed": true
   },
   "outputs": [],
   "source": [
    "temp_class_df3['description_image_incl'] = ((temp_class_df3.description_image_number > 0)\n",
    "                                            .astype('int32'))"
   ]
  },
  {
   "cell_type": "code",
   "execution_count": 114,
   "metadata": {},
   "outputs": [
    {
     "data": {
      "text/plain": [
       "Text(0.5,0,\"Number of hyperlinks in 'About This Class' Section\")"
      ]
     },
     "execution_count": 114,
     "metadata": {},
     "output_type": "execute_result"
    },
    {
     "data": {
      "image/png": "[encoded data removed]",
      "text/plain": [
       "<matplotlib.figure.Figure at 0x1c23250198>"
      ]
     },
     "metadata": {},
     "output_type": "display_data"
    }
   ],
   "source": [
    "#temp_class_df3.loc[temp_class_df3.description_link_number.sort_values(ascending=False).head().index.tolist()[0]]\n",
    "temp_class_df3.description_link_number.hist();\n",
    "plt.grid(False)\n",
    "plt.title(\"Number of hyperlinks in 'About This Class' Section Distribution\")\n",
    "plt.xlabel(\"Number of hyperlinks in 'About This Class' Section\")"
   ]
  },
  {
   "cell_type": "code",
   "execution_count": 40,
   "metadata": {},
   "outputs": [
    {
     "data": {
      "text/plain": [
       "<matplotlib.axes._subplots.AxesSubplot at 0x1c2331b128>"
      ]
     },
     "execution_count": 40,
     "metadata": {},
     "output_type": "execute_result"
    },
    {
     "data": {
      "image/png": "[encoded data removed]",
      "text/plain": [
       "<matplotlib.figure.Figure at 0x1c23324eb8>"
      ]
     },
     "metadata": {},
     "output_type": "display_data"
    }
   ],
   "source": [
    "np.log(temp_class_df3.description_link_number.replace({0:1})).hist()"
   ]
  },
  {
   "cell_type": "code",
   "execution_count": 41,
   "metadata": {
    "collapsed": true
   },
   "outputs": [],
   "source": [
    "temp_class_df3['description_link_incl'] = ((temp_class_df3.description_link_number > 0)\n",
    "                                           .astype('int32'))"
   ]
  },
  {
   "cell_type": "code",
   "execution_count": null,
   "metadata": {
    "collapsed": true
   },
   "outputs": [],
   "source": []
  },
  {
   "cell_type": "code",
   "execution_count": 119,
   "metadata": {},
   "outputs": [
    {
     "data": {
      "text/plain": [
       "Text(0.5,0,'Number of clas videos')"
      ]
     },
     "execution_count": 119,
     "metadata": {},
     "output_type": "execute_result"
    },
    {
     "data": {
      "image/png": "[encoded data removed]",
      "text/plain": [
       "<matplotlib.figure.Figure at 0x1c2310c7f0>"
      ]
     },
     "metadata": {},
     "output_type": "display_data"
    }
   ],
   "source": [
    "temp_class_df3.video_num.hist(bins=range(0,100,1));\n",
    "plt.grid(False)\n",
    "plt.title(\"Number of class videos Distribution\")\n",
    "plt.xlabel(\"Number of clas videos\")"
   ]
  },
  {
   "cell_type": "code",
   "execution_count": 120,
   "metadata": {},
   "outputs": [
    {
     "data": {
      "text/plain": [
       "Text(0.5,0,'Class Duration (min)')"
      ]
     },
     "execution_count": 120,
     "metadata": {},
     "output_type": "execute_result"
    },
    {
     "data": {
      "image/png": "[encoded data removed]",
      "text/plain": [
       "<matplotlib.figure.Figure at 0x1c1b2a5b38>"
      ]
     },
     "metadata": {},
     "output_type": "display_data"
    }
   ],
   "source": [
    "temp_class_df3.class_length_min.hist(bins=range(0,200,2));\n",
    "plt.grid(False)\n",
    "plt.title(\"Class Duration (min) Distribution\")\n",
    "plt.xlabel(\"Class Duration (min)\")"
   ]
  },
  {
   "cell_type": "code",
   "execution_count": 213,
   "metadata": {},
   "outputs": [
    {
     "data": {
      "text/plain": [
       "Text(0.5,0,'log(Class Duration (min))')"
      ]
     },
     "execution_count": 213,
     "metadata": {},
     "output_type": "execute_result"
    },
    {
     "data": {
      "image/png": "[encoded data removed]",
      "text/plain": [
       "<matplotlib.figure.Figure at 0x1c23115160>"
      ]
     },
     "metadata": {},
     "output_type": "display_data"
    }
   ],
   "source": [
    "temp_class_df3['class_length_min_log'] = np.log(temp_class_df3.class_length_min.replace({0:1}))\n",
    "temp_class_df3['class_length_min_log'].hist();\n",
    "plt.grid(False)\n",
    "plt.title(\"log transform of Class Duration (min) Distribution\")\n",
    "plt.xlabel(\"log(Class Duration (min))\")"
   ]
  },
  {
   "cell_type": "code",
   "execution_count": 122,
   "metadata": {},
   "outputs": [
    {
     "data": {
      "text/plain": [
       "Text(0.5,0,'Number of Tags')"
      ]
     },
     "execution_count": 122,
     "metadata": {},
     "output_type": "execute_result"
    },
    {
     "data": {
      "image/png": "[encoded data removed]",
      "text/plain": [
       "<matplotlib.figure.Figure at 0x1c2f69b240>"
      ]
     },
     "metadata": {},
     "output_type": "display_data"
    }
   ],
   "source": [
    "temp_class_df3.tag_num.hist();\n",
    "plt.grid(False)\n",
    "plt.title(\"Number of Tags Distribution\")\n",
    "plt.xlabel(\"Number of Tags\")"
   ]
  },
  {
   "cell_type": "code",
   "execution_count": null,
   "metadata": {
    "collapsed": true
   },
   "outputs": [],
   "source": []
  },
  {
   "cell_type": "code",
   "execution_count": 123,
   "metadata": {},
   "outputs": [
    {
     "data": {
      "text/plain": [
       "sample_project\n",
       "0    6280\n",
       "1    1378\n",
       "Name: class_name, dtype: int64"
      ]
     },
     "execution_count": 123,
     "metadata": {},
     "output_type": "execute_result"
    }
   ],
   "source": [
    "temp_class_df3.groupby('sample_project')['class_name'].count()"
   ]
  },
  {
   "cell_type": "code",
   "execution_count": null,
   "metadata": {
    "collapsed": true
   },
   "outputs": [],
   "source": []
  },
  {
   "cell_type": "code",
   "execution_count": 124,
   "metadata": {},
   "outputs": [
    {
     "data": {
      "text/plain": [
       "paid_class\n",
       "0     601\n",
       "1    7057\n",
       "Name: class_name, dtype: int64"
      ]
     },
     "execution_count": 124,
     "metadata": {},
     "output_type": "execute_result"
    }
   ],
   "source": [
    "temp_class_df3.groupby('paid_class')['class_name'].count()"
   ]
  },
  {
   "cell_type": "code",
   "execution_count": null,
   "metadata": {
    "collapsed": true
   },
   "outputs": [],
   "source": []
  },
  {
   "cell_type": "code",
   "execution_count": 126,
   "metadata": {},
   "outputs": [
    {
     "data": {
      "text/plain": [
       "Text(0.5,0,'Days Since Class Started')"
      ]
     },
     "execution_count": 126,
     "metadata": {},
     "output_type": "execute_result"
    },
    {
     "data": {
      "image/png": "[encoded data removed]",
      "text/plain": [
       "<matplotlib.figure.Figure at 0x1c2aeef940>"
      ]
     },
     "metadata": {},
     "output_type": "display_data"
    }
   ],
   "source": [
    "temp_class_df3.days_since_started.hist();\n",
    "plt.grid(False)\n",
    "plt.title(\"Distribution of Days Since Class Started\")\n",
    "plt.xlabel(\"Days Since Class Started\")"
   ]
  },
  {
   "cell_type": "code",
   "execution_count": null,
   "metadata": {
    "collapsed": true
   },
   "outputs": [],
   "source": []
  },
  {
   "cell_type": "code",
   "execution_count": 127,
   "metadata": {},
   "outputs": [],
   "source": [
    "temp_class_df4 = pd.concat([temp_class_df3,\n",
    "                            pd.get_dummies(temp_class_df3.description_length_fac, prefix=\"description\")],\n",
    "                           axis=1)"
   ]
  },
  {
   "cell_type": "code",
   "execution_count": null,
   "metadata": {
    "collapsed": true
   },
   "outputs": [],
   "source": []
  },
  {
   "cell_type": "code",
   "execution_count": 128,
   "metadata": {},
   "outputs": [],
   "source": [
    "temp_class_df4['temp'] = temp_class_df4.enrollment_number.str.replace(',','')\n",
    "temp_class_df4.enrollment_number = temp_class_df4['temp'].fillna(temp_class_df4.enrollment_number).astype(\"int64\")\n",
    "temp_class_df4 = temp_class_df4.drop('temp', axis=1)"
   ]
  },
  {
   "cell_type": "code",
   "execution_count": 216,
   "metadata": {},
   "outputs": [
    {
     "data": {
      "text/plain": [
       "Text(0.5,0,'Enrollment')"
      ]
     },
     "execution_count": 216,
     "metadata": {},
     "output_type": "execute_result"
    },
    {
     "data": {
      "image/png": "[encoded data removed]",
      "text/plain": [
       "<matplotlib.figure.Figure at 0x1c28d19e80>"
      ]
     },
     "metadata": {},
     "output_type": "display_data"
    }
   ],
   "source": [
    "temp_class_df4.enrollment_number.hist();\n",
    "plt.grid(False)\n",
    "plt.title(\"Distribution of Enrollment\")\n",
    "plt.xlabel(\"Enrollment\")"
   ]
  },
  {
   "cell_type": "code",
   "execution_count": 130,
   "metadata": {},
   "outputs": [],
   "source": [
    "temp_class_df4['enrollment_number_log'] = np.log10(temp_class_df4\n",
    "                                                   .enrollment_number\n",
    "                                                   .replace({0:1}))"
   ]
  },
  {
   "cell_type": "code",
   "execution_count": 134,
   "metadata": {},
   "outputs": [
    {
     "data": {
      "text/plain": [
       "Text(0.5,0,'Log Transform of Enrollment')"
      ]
     },
     "execution_count": 134,
     "metadata": {},
     "output_type": "execute_result"
    },
    {
     "data": {
      "image/png": "[encoded data removed]",
      "text/plain": [
       "<matplotlib.figure.Figure at 0x1c2b3b0390>"
      ]
     },
     "metadata": {},
     "output_type": "display_data"
    }
   ],
   "source": [
    "sns.distplot(temp_class_df4.enrollment_number_log);#.hist();\n",
    "plt.grid(False)\n",
    "plt.title(\"Distribution of Log Transform of Enrollment\")\n",
    "plt.xlabel(\"Log Transform of Enrollment\")"
   ]
  },
  {
   "cell_type": "code",
   "execution_count": 136,
   "metadata": {},
   "outputs": [
    {
     "name": "stdout",
     "output_type": "stream",
     "text": [
      "<class 'pandas.core.frame.DataFrame'>\n",
      "Int64Index: 7658 entries, 576876085 to 759834501\n",
      "Data columns (total 62 columns):\n",
      "class_length                      7658 non-null object\n",
      "class_name                        7658 non-null object\n",
      "class_type                        7658 non-null object\n",
      "description_image_number          7658 non-null int64\n",
      "description_length                7658 non-null int64\n",
      "description_link_number           7658 non-null int64\n",
      "enrollment_number                 7658 non-null int64\n",
      "paid_class                        7658 non-null int32\n",
      "sample_project                    7658 non-null int32\n",
      "start_date                        7658 non-null datetime64[ns]\n",
      "tags                              7658 non-null object\n",
      "teacher                           7658 non-null object\n",
      "teacher_profile                   7658 non-null object\n",
      "teacher_title                     7383 non-null object\n",
      "class_type_animation              7658 non-null uint8\n",
      "class_type_business-analytics     7658 non-null uint8\n",
      "class_type_crafts                 7658 non-null uint8\n",
      "class_type_culinary               7658 non-null uint8\n",
      "class_type_data-science           7658 non-null uint8\n",
      "class_type_entrepreneurship       7658 non-null uint8\n",
      "class_type_film-production        7658 non-null uint8\n",
      "class_type_finance                7658 non-null uint8\n",
      "class_type_fine-art               7658 non-null uint8\n",
      "class_type_freelance              7658 non-null uint8\n",
      "class_type_game-design            7658 non-null uint8\n",
      "class_type_gaming                 7658 non-null uint8\n",
      "class_type_graphic-design         7658 non-null uint8\n",
      "class_type_health-and-wellness    7658 non-null uint8\n",
      "class_type_home-business          7658 non-null uint8\n",
      "class_type_human-resources        7658 non-null uint8\n",
      "class_type_illustration           7658 non-null uint8\n",
      "class_type_it-security            7658 non-null uint8\n",
      "class_type_languages              7658 non-null uint8\n",
      "class_type_leadership             7658 non-null uint8\n",
      "class_type_management             7658 non-null uint8\n",
      "class_type_marketing              7658 non-null uint8\n",
      "class_type_mobile-development     7658 non-null uint8\n",
      "class_type_music-production       7658 non-null uint8\n",
      "class_type_other                  7658 non-null uint8\n",
      "class_type_photography            7658 non-null uint8\n",
      "class_type_product-management     7658 non-null uint8\n",
      "class_type_productivity           7658 non-null uint8\n",
      "class_type_sales                  7658 non-null uint8\n",
      "class_type_teaching               7658 non-null uint8\n",
      "class_type_ui-ux-design           7658 non-null uint8\n",
      "class_type_web-development        7658 non-null uint8\n",
      "class_type_writing                7658 non-null uint8\n",
      "tag_num                           7658 non-null int64\n",
      "days_since_started                7658 non-null int64\n",
      "video_num                         7658 non-null int32\n",
      "video_hr                          7658 non-null object\n",
      "video_min                         7658 non-null object\n",
      "class_length_min                  7658 non-null int32\n",
      "teacher_exp                       7658 non-null int64\n",
      "description_length_fac            7658 non-null int64\n",
      "description_image_incl            7658 non-null int32\n",
      "description_link_incl             7658 non-null int32\n",
      "class_length_min_log              7658 non-null float64\n",
      "description_0                     7658 non-null uint8\n",
      "description_1                     7658 non-null uint8\n",
      "description_2                     7658 non-null uint8\n",
      "enrollment_number_log             7658 non-null float64\n",
      "dtypes: datetime64[ns](1), float64(2), int32(6), int64(8), object(9), uint8(36)\n",
      "memory usage: 2.0+ MB\n"
     ]
    }
   ],
   "source": [
    "temp_class_df4.info()"
   ]
  },
  {
   "cell_type": "code",
   "execution_count": 55,
   "metadata": {
    "scrolled": false
   },
   "outputs": [],
   "source": [
    "#list(zip(range(len(temp_class_df4.columns)),temp_class_df4.columns))"
   ]
  },
  {
   "cell_type": "code",
   "execution_count": 199,
   "metadata": {},
   "outputs": [],
   "source": [
    "fit_data_df = temp_class_df4.drop(['class_length', 'class_name',\n",
    "                                   'class_length_min', 'video_num',\n",
    "                                   'description_image_number',\n",
    "                                   'description_length', \n",
    "                                   'description_link_number',\n",
    "                                   'enrollment_number', \n",
    "                                   'start_date','tags',\n",
    "                                   'teacher', 'teacher_profile',\n",
    "                                   'teacher_title', 'class_type',\n",
    "                                   'video_hr', 'video_min', \n",
    "                                   'description_2',\n",
    "                                  'description_length_fac'], axis=1)"
   ]
  },
  {
   "cell_type": "code",
   "execution_count": 200,
   "metadata": {},
   "outputs": [
    {
     "data": {
      "text/plain": [
       "['paid_class',\n",
       " 'sample_project',\n",
       " 'class_type_animation',\n",
       " 'class_type_business-analytics',\n",
       " 'class_type_crafts',\n",
       " 'class_type_culinary',\n",
       " 'class_type_data-science',\n",
       " 'class_type_entrepreneurship',\n",
       " 'class_type_film-production',\n",
       " 'class_type_finance',\n",
       " 'class_type_fine-art',\n",
       " 'class_type_freelance',\n",
       " 'class_type_game-design',\n",
       " 'class_type_gaming',\n",
       " 'class_type_graphic-design',\n",
       " 'class_type_health-and-wellness',\n",
       " 'class_type_home-business',\n",
       " 'class_type_human-resources',\n",
       " 'class_type_illustration',\n",
       " 'class_type_it-security',\n",
       " 'class_type_languages',\n",
       " 'class_type_leadership',\n",
       " 'class_type_management',\n",
       " 'class_type_marketing',\n",
       " 'class_type_mobile-development',\n",
       " 'class_type_music-production',\n",
       " 'class_type_other',\n",
       " 'class_type_photography',\n",
       " 'class_type_product-management',\n",
       " 'class_type_productivity',\n",
       " 'class_type_sales',\n",
       " 'class_type_teaching',\n",
       " 'class_type_ui-ux-design',\n",
       " 'class_type_web-development',\n",
       " 'class_type_writing',\n",
       " 'tag_num',\n",
       " 'days_since_started',\n",
       " 'teacher_exp',\n",
       " 'description_image_incl',\n",
       " 'description_link_incl',\n",
       " 'class_length_min_log',\n",
       " 'description_0',\n",
       " 'description_1',\n",
       " 'enrollment_number_log']"
      ]
     },
     "execution_count": 200,
     "metadata": {},
     "output_type": "execute_result"
    }
   ],
   "source": [
    "list(fit_data_df.columns)"
   ]
  },
  {
   "cell_type": "code",
   "execution_count": 201,
   "metadata": {},
   "outputs": [],
   "source": [
    "#sns.pairplot(temp_class_df5)"
   ]
  },
  {
   "cell_type": "code",
   "execution_count": 202,
   "metadata": {},
   "outputs": [],
   "source": [
    "X = fit_data_df.loc[:,list(fit_data_df.columns)[:-1]]\n",
    "y = fit_data_df.enrollment_number_log"
   ]
  },
  {
   "cell_type": "code",
   "execution_count": 203,
   "metadata": {
    "collapsed": true
   },
   "outputs": [],
   "source": [
    "X_train, X_test, y_train, y_test = train_test_split(X, y, test_size = 0.2)"
   ]
  },
  {
   "cell_type": "code",
   "execution_count": 204,
   "metadata": {},
   "outputs": [
    {
     "data": {
      "text/plain": [
       "0.34466680737971545"
      ]
     },
     "execution_count": 204,
     "metadata": {},
     "output_type": "execute_result"
    }
   ],
   "source": [
    "selected_columns_1 = ['days_since_started']\n",
    "lr_model1 = linear_model.LinearRegression(normalize=True)\n",
    "lr_model1.fit(X_train[selected_columns_1],y_train)\n",
    "lr_model1.score(X_test[selected_columns_1], y_test)"
   ]
  },
  {
   "cell_type": "code",
   "execution_count": 205,
   "metadata": {},
   "outputs": [],
   "source": [
    "X_train, y_train = np.array(X_train), np.array(y_train)\n",
    "X_test, y_test = np.array(X_test), np.array(y_test)"
   ]
  },
  {
   "cell_type": "code",
   "execution_count": 206,
   "metadata": {},
   "outputs": [],
   "source": [
    "models_1 = {}\n",
    "models_1['lin_reg'] = {'model': linear_model.LinearRegression(normalize=True)}\n",
    "models_1['ridge'] = {'model': linear_model.Ridge(normalize=True)}\n",
    "models_1['lasso'] = {'model': linear_model.Lasso(normalize=True)}\n",
    "models_1['elasticnet'] = {'model': linear_model.ElasticNet(normalize=True)}\n",
    "\n",
    "models_2 = {}\n",
    "models_2['lin_reg'] = {'model': linear_model.LinearRegression(normalize=True)}\n",
    "models_2['ridge'] = {'model': linear_model.Ridge(normalize=True)}\n",
    "models_2['lasso'] = {'model': linear_model.Lasso(normalize=True)}\n",
    "models_2['elasticnet'] = {'model': linear_model.ElasticNet(normalize=True)}"
   ]
  },
  {
   "cell_type": "code",
   "execution_count": null,
   "metadata": {},
   "outputs": [],
   "source": []
  },
  {
   "cell_type": "code",
   "execution_count": 207,
   "metadata": {},
   "outputs": [
    {
     "name": "stdout",
     "output_type": "stream",
     "text": [
      "lin_reg\n",
      "R^2: 0.63376 \n",
      "\n",
      "ridge\n",
      "optimal alpha: 1.79e-03\n",
      "R^2: 0.63375 \n",
      "\n",
      "lasso\n",
      "optimal alpha: 1.38e-06\n",
      "R^2: 0.63376 \n",
      "\n",
      "elasticnet\n",
      "optimal alpha: 1.18e-06\n",
      "R^2: 0.63371 \n",
      "\n"
     ]
    }
   ],
   "source": [
    "#run the CV\n",
    "X, y = X_train, y_train\n",
    "alpha_list = 10 ** np.linspace(-6, 1, 100)\n",
    "\n",
    "kf = KFold(n_splits=5, shuffle=True)\n",
    "#cv_lm_r2s, cv_lm_reg_r2s = [], [] #collect the validation results for both models\n",
    "\n",
    "for key in models_1.keys():\n",
    "    \n",
    "    lm = models_1[key]['model']\n",
    "    \n",
    "    if key == 'lin_reg':\n",
    "        lm.fit(X, y)\n",
    "        print(key)\n",
    "        print(\"R^2:\", \"{:.5f}\".format(lm.score(X, y)), \"\\n\")\n",
    "        continue\n",
    "           \n",
    "    error_score = np.zeros_like(alpha_list)   \n",
    "    for idx, alpha in enumerate(alpha_list):\n",
    "        \n",
    "        for train_ind, val_ind in kf.split(X, y):\n",
    "            \n",
    "            lm.alpha = alpha\n",
    "            lm.fit(X[train_ind],y[train_ind])\n",
    "            Y_pred = lm.predict(X[val_ind])\n",
    "            error_score[idx] += np.sqrt(mean_squared_error(y[val_ind], Y_pred))\n",
    "            \n",
    "    optimal_alpha = alpha_list[np.argmin(error_score)]\n",
    "    lm = models_1[key]['model']\n",
    "    lm.alpha = optimal_alpha\n",
    "    models_1[key]['model'] = lm\n",
    "    lm.fit(X, y)\n",
    "    print(key)\n",
    "    print(\"optimal alpha:\", \"{:.2e}\".format(optimal_alpha))\n",
    "    print(\"R^2:\", \"{:.5f}\".format(lm.score(X, y)), \"\\n\")\n",
    "    "
   ]
  },
  {
   "cell_type": "code",
   "execution_count": 172,
   "metadata": {},
   "outputs": [
    {
     "ename": "NotFittedError",
     "evalue": "This LinearRegression instance is not fitted yet. Call 'fit' with appropriate arguments before using this method.",
     "output_type": "error",
     "traceback": [
      "\u001b[0;31m---------------------------------------------------------------------------\u001b[0m",
      "\u001b[0;31mNotFittedError\u001b[0m                            Traceback (most recent call last)",
      "\u001b[0;32m<ipython-input-172-79f498a17b6b>\u001b[0m in \u001b[0;36m<module>\u001b[0;34m()\u001b[0m\n\u001b[1;32m      1\u001b[0m \u001b[0mlm\u001b[0m \u001b[0;34m=\u001b[0m \u001b[0mmodels\u001b[0m\u001b[0;34m[\u001b[0m\u001b[0;34m'lin_reg'\u001b[0m\u001b[0;34m]\u001b[0m\u001b[0;34m[\u001b[0m\u001b[0;34m'model'\u001b[0m\u001b[0;34m]\u001b[0m\u001b[0;34m\u001b[0m\u001b[0m\n\u001b[0;32m----> 2\u001b[0;31m \u001b[0mY_pred\u001b[0m \u001b[0;34m=\u001b[0m \u001b[0mlm\u001b[0m\u001b[0;34m.\u001b[0m\u001b[0mpredict\u001b[0m\u001b[0;34m(\u001b[0m\u001b[0mX_test\u001b[0m\u001b[0;34m)\u001b[0m\u001b[0;34m\u001b[0m\u001b[0m\n\u001b[0m\u001b[1;32m      3\u001b[0m \u001b[0mplt\u001b[0m\u001b[0;34m.\u001b[0m\u001b[0mscatter\u001b[0m\u001b[0;34m(\u001b[0m\u001b[0my_test\u001b[0m\u001b[0;34m,\u001b[0m\u001b[0my_test\u001b[0m\u001b[0;34m-\u001b[0m\u001b[0mY_pred\u001b[0m\u001b[0;34m,\u001b[0m\u001b[0malpha\u001b[0m\u001b[0;34m=\u001b[0m\u001b[0;36m.1\u001b[0m\u001b[0;34m)\u001b[0m\u001b[0;34m\u001b[0m\u001b[0m\n",
      "\u001b[0;32m~/anaconda3/lib/python3.6/site-packages/sklearn/linear_model/base.py\u001b[0m in \u001b[0;36mpredict\u001b[0;34m(self, X)\u001b[0m\n\u001b[1;32m    254\u001b[0m             \u001b[0mReturns\u001b[0m \u001b[0mpredicted\u001b[0m \u001b[0mvalues\u001b[0m\u001b[0;34m.\u001b[0m\u001b[0;34m\u001b[0m\u001b[0m\n\u001b[1;32m    255\u001b[0m         \"\"\"\n\u001b[0;32m--> 256\u001b[0;31m         \u001b[0;32mreturn\u001b[0m \u001b[0mself\u001b[0m\u001b[0;34m.\u001b[0m\u001b[0m_decision_function\u001b[0m\u001b[0;34m(\u001b[0m\u001b[0mX\u001b[0m\u001b[0;34m)\u001b[0m\u001b[0;34m\u001b[0m\u001b[0m\n\u001b[0m\u001b[1;32m    257\u001b[0m \u001b[0;34m\u001b[0m\u001b[0m\n\u001b[1;32m    258\u001b[0m     \u001b[0m_preprocess_data\u001b[0m \u001b[0;34m=\u001b[0m \u001b[0mstaticmethod\u001b[0m\u001b[0;34m(\u001b[0m\u001b[0m_preprocess_data\u001b[0m\u001b[0;34m)\u001b[0m\u001b[0;34m\u001b[0m\u001b[0m\n",
      "\u001b[0;32m~/anaconda3/lib/python3.6/site-packages/sklearn/linear_model/base.py\u001b[0m in \u001b[0;36m_decision_function\u001b[0;34m(self, X)\u001b[0m\n\u001b[1;32m    235\u001b[0m \u001b[0;34m\u001b[0m\u001b[0m\n\u001b[1;32m    236\u001b[0m     \u001b[0;32mdef\u001b[0m \u001b[0m_decision_function\u001b[0m\u001b[0;34m(\u001b[0m\u001b[0mself\u001b[0m\u001b[0;34m,\u001b[0m \u001b[0mX\u001b[0m\u001b[0;34m)\u001b[0m\u001b[0;34m:\u001b[0m\u001b[0;34m\u001b[0m\u001b[0m\n\u001b[0;32m--> 237\u001b[0;31m         \u001b[0mcheck_is_fitted\u001b[0m\u001b[0;34m(\u001b[0m\u001b[0mself\u001b[0m\u001b[0;34m,\u001b[0m \u001b[0;34m\"coef_\"\u001b[0m\u001b[0;34m)\u001b[0m\u001b[0;34m\u001b[0m\u001b[0m\n\u001b[0m\u001b[1;32m    238\u001b[0m \u001b[0;34m\u001b[0m\u001b[0m\n\u001b[1;32m    239\u001b[0m         \u001b[0mX\u001b[0m \u001b[0;34m=\u001b[0m \u001b[0mcheck_array\u001b[0m\u001b[0;34m(\u001b[0m\u001b[0mX\u001b[0m\u001b[0;34m,\u001b[0m \u001b[0maccept_sparse\u001b[0m\u001b[0;34m=\u001b[0m\u001b[0;34m[\u001b[0m\u001b[0;34m'csr'\u001b[0m\u001b[0;34m,\u001b[0m \u001b[0;34m'csc'\u001b[0m\u001b[0;34m,\u001b[0m \u001b[0;34m'coo'\u001b[0m\u001b[0;34m]\u001b[0m\u001b[0;34m)\u001b[0m\u001b[0;34m\u001b[0m\u001b[0m\n",
      "\u001b[0;32m~/anaconda3/lib/python3.6/site-packages/sklearn/utils/validation.py\u001b[0m in \u001b[0;36mcheck_is_fitted\u001b[0;34m(estimator, attributes, msg, all_or_any)\u001b[0m\n\u001b[1;32m    766\u001b[0m \u001b[0;34m\u001b[0m\u001b[0m\n\u001b[1;32m    767\u001b[0m     \u001b[0;32mif\u001b[0m \u001b[0;32mnot\u001b[0m \u001b[0mall_or_any\u001b[0m\u001b[0;34m(\u001b[0m\u001b[0;34m[\u001b[0m\u001b[0mhasattr\u001b[0m\u001b[0;34m(\u001b[0m\u001b[0mestimator\u001b[0m\u001b[0;34m,\u001b[0m \u001b[0mattr\u001b[0m\u001b[0;34m)\u001b[0m \u001b[0;32mfor\u001b[0m \u001b[0mattr\u001b[0m \u001b[0;32min\u001b[0m \u001b[0mattributes\u001b[0m\u001b[0;34m]\u001b[0m\u001b[0;34m)\u001b[0m\u001b[0;34m:\u001b[0m\u001b[0;34m\u001b[0m\u001b[0m\n\u001b[0;32m--> 768\u001b[0;31m         \u001b[0;32mraise\u001b[0m \u001b[0mNotFittedError\u001b[0m\u001b[0;34m(\u001b[0m\u001b[0mmsg\u001b[0m \u001b[0;34m%\u001b[0m \u001b[0;34m{\u001b[0m\u001b[0;34m'name'\u001b[0m\u001b[0;34m:\u001b[0m \u001b[0mtype\u001b[0m\u001b[0;34m(\u001b[0m\u001b[0mestimator\u001b[0m\u001b[0;34m)\u001b[0m\u001b[0;34m.\u001b[0m\u001b[0m__name__\u001b[0m\u001b[0;34m}\u001b[0m\u001b[0;34m)\u001b[0m\u001b[0;34m\u001b[0m\u001b[0m\n\u001b[0m\u001b[1;32m    769\u001b[0m \u001b[0;34m\u001b[0m\u001b[0m\n\u001b[1;32m    770\u001b[0m \u001b[0;34m\u001b[0m\u001b[0m\n",
      "\u001b[0;31mNotFittedError\u001b[0m: This LinearRegression instance is not fitted yet. Call 'fit' with appropriate arguments before using this method."
     ]
    }
   ],
   "source": [
    "lm = models['lin_reg']['model']\n",
    "Y_pred = lm.predict(X_test)\n",
    "plt.scatter(y_test,y_test-Y_pred,alpha=.1)"
   ]
  },
  {
   "cell_type": "code",
   "execution_count": 67,
   "metadata": {
    "collapsed": true
   },
   "outputs": [],
   "source": [
    "poly = preprocessing.PolynomialFeatures(degree=2)\n",
    "X_train_poly = poly.fit_transform(X_train)\n",
    "X_test_poly = poly.fit_transform(X_test)"
   ]
  },
  {
   "cell_type": "code",
   "execution_count": 70,
   "metadata": {},
   "outputs": [
    {
     "data": {
      "text/plain": [
       "(-1.5, 2.5)"
      ]
     },
     "execution_count": 70,
     "metadata": {},
     "output_type": "execute_result"
    },
    {
     "data": {
      "image/png": "[encoded data removed]",
      "text/plain": [
       "<matplotlib.figure.Figure at 0x1c240817b8>"
      ]
     },
     "metadata": {},
     "output_type": "display_data"
    }
   ],
   "source": [
    "lm = models['lin_reg']['model']\n",
    "Y_pred = lm.predict(X_test_poly);\n",
    "plt.scatter(y_test,y_test-Y_pred,alpha=.1);\n",
    "plt.ylim([-1.5,2.5])"
   ]
  },
  {
   "cell_type": "code",
   "execution_count": 208,
   "metadata": {},
   "outputs": [],
   "source": [
    "coef = models_1['lin_reg']['model'].coef_"
   ]
  },
  {
   "cell_type": "code",
   "execution_count": 209,
   "metadata": {},
   "outputs": [
    {
     "data": {
      "text/html": [
       "<div>\n",
       "<style>\n",
       "    .dataframe thead tr:only-child th {\n",
       "        text-align: right;\n",
       "    }\n",
       "\n",
       "    .dataframe thead th {\n",
       "        text-align: left;\n",
       "    }\n",
       "\n",
       "    .dataframe tbody tr th {\n",
       "        vertical-align: top;\n",
       "    }\n",
       "</style>\n",
       "<table border=\"1\" class=\"dataframe\">\n",
       "  <thead>\n",
       "    <tr style=\"text-align: right;\">\n",
       "      <th></th>\n",
       "      <th>Coefficients</th>\n",
       "      <th>Feature</th>\n",
       "    </tr>\n",
       "  </thead>\n",
       "  <tbody>\n",
       "    <tr>\n",
       "      <th>14</th>\n",
       "      <td>1.250785</td>\n",
       "      <td>class_type_graphic-design</td>\n",
       "    </tr>\n",
       "    <tr>\n",
       "      <th>23</th>\n",
       "      <td>1.144113</td>\n",
       "      <td>class_type_marketing</td>\n",
       "    </tr>\n",
       "    <tr>\n",
       "      <th>18</th>\n",
       "      <td>1.042555</td>\n",
       "      <td>class_type_illustration</td>\n",
       "    </tr>\n",
       "    <tr>\n",
       "      <th>27</th>\n",
       "      <td>0.997100</td>\n",
       "      <td>class_type_photography</td>\n",
       "    </tr>\n",
       "    <tr>\n",
       "      <th>32</th>\n",
       "      <td>0.861868</td>\n",
       "      <td>class_type_ui-ux-design</td>\n",
       "    </tr>\n",
       "    <tr>\n",
       "      <th>4</th>\n",
       "      <td>0.750130</td>\n",
       "      <td>class_type_crafts</td>\n",
       "    </tr>\n",
       "    <tr>\n",
       "      <th>2</th>\n",
       "      <td>0.741225</td>\n",
       "      <td>class_type_animation</td>\n",
       "    </tr>\n",
       "    <tr>\n",
       "      <th>8</th>\n",
       "      <td>0.603121</td>\n",
       "      <td>class_type_film-production</td>\n",
       "    </tr>\n",
       "    <tr>\n",
       "      <th>33</th>\n",
       "      <td>0.585162</td>\n",
       "      <td>class_type_web-development</td>\n",
       "    </tr>\n",
       "    <tr>\n",
       "      <th>29</th>\n",
       "      <td>0.550253</td>\n",
       "      <td>class_type_productivity</td>\n",
       "    </tr>\n",
       "    <tr>\n",
       "      <th>10</th>\n",
       "      <td>0.480332</td>\n",
       "      <td>class_type_fine-art</td>\n",
       "    </tr>\n",
       "    <tr>\n",
       "      <th>16</th>\n",
       "      <td>0.474246</td>\n",
       "      <td>class_type_home-business</td>\n",
       "    </tr>\n",
       "    <tr>\n",
       "      <th>34</th>\n",
       "      <td>0.468195</td>\n",
       "      <td>class_type_writing</td>\n",
       "    </tr>\n",
       "    <tr>\n",
       "      <th>25</th>\n",
       "      <td>0.448055</td>\n",
       "      <td>class_type_music-production</td>\n",
       "    </tr>\n",
       "    <tr>\n",
       "      <th>15</th>\n",
       "      <td>0.439625</td>\n",
       "      <td>class_type_health-and-wellness</td>\n",
       "    </tr>\n",
       "    <tr>\n",
       "      <th>11</th>\n",
       "      <td>0.381209</td>\n",
       "      <td>class_type_freelance</td>\n",
       "    </tr>\n",
       "    <tr>\n",
       "      <th>5</th>\n",
       "      <td>0.365554</td>\n",
       "      <td>class_type_culinary</td>\n",
       "    </tr>\n",
       "    <tr>\n",
       "      <th>26</th>\n",
       "      <td>0.308771</td>\n",
       "      <td>class_type_other</td>\n",
       "    </tr>\n",
       "    <tr>\n",
       "      <th>30</th>\n",
       "      <td>0.300198</td>\n",
       "      <td>class_type_sales</td>\n",
       "    </tr>\n",
       "    <tr>\n",
       "      <th>1</th>\n",
       "      <td>0.273739</td>\n",
       "      <td>sample_project</td>\n",
       "    </tr>\n",
       "    <tr>\n",
       "      <th>13</th>\n",
       "      <td>0.251527</td>\n",
       "      <td>class_type_gaming</td>\n",
       "    </tr>\n",
       "    <tr>\n",
       "      <th>7</th>\n",
       "      <td>0.203371</td>\n",
       "      <td>class_type_entrepreneurship</td>\n",
       "    </tr>\n",
       "    <tr>\n",
       "      <th>31</th>\n",
       "      <td>0.158634</td>\n",
       "      <td>class_type_teaching</td>\n",
       "    </tr>\n",
       "    <tr>\n",
       "      <th>39</th>\n",
       "      <td>0.143493</td>\n",
       "      <td>description_link_incl</td>\n",
       "    </tr>\n",
       "    <tr>\n",
       "      <th>3</th>\n",
       "      <td>0.079276</td>\n",
       "      <td>class_type_business-analytics</td>\n",
       "    </tr>\n",
       "    <tr>\n",
       "      <th>37</th>\n",
       "      <td>0.037737</td>\n",
       "      <td>teacher_exp</td>\n",
       "    </tr>\n",
       "    <tr>\n",
       "      <th>35</th>\n",
       "      <td>0.036270</td>\n",
       "      <td>tag_num</td>\n",
       "    </tr>\n",
       "    <tr>\n",
       "      <th>21</th>\n",
       "      <td>0.013449</td>\n",
       "      <td>class_type_leadership</td>\n",
       "    </tr>\n",
       "    <tr>\n",
       "      <th>36</th>\n",
       "      <td>0.001288</td>\n",
       "      <td>days_since_started</td>\n",
       "    </tr>\n",
       "    <tr>\n",
       "      <th>40</th>\n",
       "      <td>-0.004079</td>\n",
       "      <td>class_length_min_log</td>\n",
       "    </tr>\n",
       "    <tr>\n",
       "      <th>38</th>\n",
       "      <td>-0.010765</td>\n",
       "      <td>description_image_incl</td>\n",
       "    </tr>\n",
       "    <tr>\n",
       "      <th>24</th>\n",
       "      <td>-0.024266</td>\n",
       "      <td>class_type_mobile-development</td>\n",
       "    </tr>\n",
       "    <tr>\n",
       "      <th>12</th>\n",
       "      <td>-0.034562</td>\n",
       "      <td>class_type_game-design</td>\n",
       "    </tr>\n",
       "    <tr>\n",
       "      <th>22</th>\n",
       "      <td>-0.041339</td>\n",
       "      <td>class_type_management</td>\n",
       "    </tr>\n",
       "    <tr>\n",
       "      <th>42</th>\n",
       "      <td>-0.059253</td>\n",
       "      <td>description_1</td>\n",
       "    </tr>\n",
       "    <tr>\n",
       "      <th>9</th>\n",
       "      <td>-0.060416</td>\n",
       "      <td>class_type_finance</td>\n",
       "    </tr>\n",
       "    <tr>\n",
       "      <th>28</th>\n",
       "      <td>-0.078896</td>\n",
       "      <td>class_type_product-management</td>\n",
       "    </tr>\n",
       "    <tr>\n",
       "      <th>19</th>\n",
       "      <td>-0.079947</td>\n",
       "      <td>class_type_it-security</td>\n",
       "    </tr>\n",
       "    <tr>\n",
       "      <th>17</th>\n",
       "      <td>-0.173727</td>\n",
       "      <td>class_type_human-resources</td>\n",
       "    </tr>\n",
       "    <tr>\n",
       "      <th>20</th>\n",
       "      <td>-0.203969</td>\n",
       "      <td>class_type_languages</td>\n",
       "    </tr>\n",
       "    <tr>\n",
       "      <th>41</th>\n",
       "      <td>-0.210029</td>\n",
       "      <td>description_0</td>\n",
       "    </tr>\n",
       "    <tr>\n",
       "      <th>6</th>\n",
       "      <td>-0.212589</td>\n",
       "      <td>class_type_data-science</td>\n",
       "    </tr>\n",
       "    <tr>\n",
       "      <th>0</th>\n",
       "      <td>-0.274135</td>\n",
       "      <td>paid_class</td>\n",
       "    </tr>\n",
       "  </tbody>\n",
       "</table>\n",
       "</div>"
      ],
      "text/plain": [
       "    Coefficients                         Feature\n",
       "14      1.250785       class_type_graphic-design\n",
       "23      1.144113            class_type_marketing\n",
       "18      1.042555         class_type_illustration\n",
       "27      0.997100          class_type_photography\n",
       "32      0.861868         class_type_ui-ux-design\n",
       "4       0.750130               class_type_crafts\n",
       "2       0.741225            class_type_animation\n",
       "8       0.603121      class_type_film-production\n",
       "33      0.585162      class_type_web-development\n",
       "29      0.550253         class_type_productivity\n",
       "10      0.480332             class_type_fine-art\n",
       "16      0.474246        class_type_home-business\n",
       "34      0.468195              class_type_writing\n",
       "25      0.448055     class_type_music-production\n",
       "15      0.439625  class_type_health-and-wellness\n",
       "11      0.381209            class_type_freelance\n",
       "5       0.365554             class_type_culinary\n",
       "26      0.308771                class_type_other\n",
       "30      0.300198                class_type_sales\n",
       "1       0.273739                  sample_project\n",
       "13      0.251527               class_type_gaming\n",
       "7       0.203371     class_type_entrepreneurship\n",
       "31      0.158634             class_type_teaching\n",
       "39      0.143493           description_link_incl\n",
       "3       0.079276   class_type_business-analytics\n",
       "37      0.037737                     teacher_exp\n",
       "35      0.036270                         tag_num\n",
       "21      0.013449           class_type_leadership\n",
       "36      0.001288              days_since_started\n",
       "40     -0.004079            class_length_min_log\n",
       "38     -0.010765          description_image_incl\n",
       "24     -0.024266   class_type_mobile-development\n",
       "12     -0.034562          class_type_game-design\n",
       "22     -0.041339           class_type_management\n",
       "42     -0.059253                   description_1\n",
       "9      -0.060416              class_type_finance\n",
       "28     -0.078896   class_type_product-management\n",
       "19     -0.079947          class_type_it-security\n",
       "17     -0.173727      class_type_human-resources\n",
       "20     -0.203969            class_type_languages\n",
       "41     -0.210029                   description_0\n",
       "6      -0.212589         class_type_data-science\n",
       "0      -0.274135                      paid_class"
      ]
     },
     "execution_count": 209,
     "metadata": {},
     "output_type": "execute_result"
    }
   ],
   "source": [
    "X = fit_data_df.loc[:,list(fit_data_df.columns)[:-1]]\n",
    "y = fit_data_df.enrollment_number_log\n",
    "coefficients = pd.DataFrame({\"Feature\":X.columns,\"Coefficients\":np.transpose(coef)})\n",
    "coefficients.sort_values('Coefficients', ascending=False)#.head(10)"
   ]
  },
  {
   "cell_type": "code",
   "execution_count": null,
   "metadata": {},
   "outputs": [],
   "source": [
    "def get_links_from_txt(file):\n",
    "    with open(file) as f:\n",
    "        urls_dict = {}\n",
    "        \n",
    "        reader = f.readlines()\n",
    "        \n",
    "        for line in reader:\n",
    "            isStart = True\n",
    "            foo = line.strip().split(',')\n",
    "            for item in foo:\n",
    "                clean_item = item.strip().strip(\"[\").strip(\"]\").strip(\"'\").strip()\n",
    "                if isStart:\n",
    "                    isStart = False\n",
    "                    class_type = clean_item\n",
    "                    urls_dict[class_type] = []\n",
    "                else:\n",
    "                    urls_dict[class_type].append(clean_item)\n",
    "        return urls_dict\n",
    "    \n",
    "file = 'class_urls-1.csv'\n",
    "urls_dict = get_links_from_txt(file)\n",
    "pickle.dump(urls_dict, open(\"urls.pickle\", \"wb\"))"
   ]
  },
  {
   "cell_type": "code",
   "execution_count": null,
   "metadata": {},
   "outputs": [],
   "source": [
    "for class_type in [class_types[7]]:\n",
    "    print(class_type)\n",
    "    beginning = \"./\"+class_type+\".pickle\"\n",
    "    beginning_data = pickle.load(open(beginning, 'rb'))\n",
    "    #print(len(beginning_data['class_name']))\n",
    "    \n",
    "    ending = \"./done/\"+class_type+\".pickle\"\n",
    "    ending_data = pickle.load(open(ending, 'rb'))\n",
    "    \n",
    "    #for c in ending_data.keys():\n",
    "    #    ending_data[c] = ending_data[c][:98]\n",
    "        \n",
    "    df1 = pd.DataFrame.from_dict(beginning_data)\n",
    "    df2 = pd.DataFrame.from_dict(ending_data)\n",
    "    \n",
    "    df = pd.concat([df1, df2])\n",
    "    print(len(df['class_name']))\n",
    "    \n",
    "    final = \"./done/\"+class_type+\"1.pickle\"\n",
    "    pickle.dump(df, open(final, 'wb'))\n",
    "    "
   ]
  },
  {
   "cell_type": "code",
   "execution_count": null,
   "metadata": {},
   "outputs": [],
   "source": [
    "for c in ending_data.keys():\n",
    "    print(len(ending_data[c]))"
   ]
  },
  {
   "cell_type": "code",
   "execution_count": null,
   "metadata": {
    "collapsed": true
   },
   "outputs": [],
   "source": []
  }
 ],
 "metadata": {
  "kernelspec": {
   "display_name": "Python 3",
   "language": "python",
   "name": "python3"
  },
  "language_info": {
   "codemirror_mode": {
    "name": "ipython",
    "version": 3
   },
   "file_extension": ".py",
   "mimetype": "text/x-python",
   "name": "python",
   "nbconvert_exporter": "python",
   "pygments_lexer": "ipython3",
   "version": "3.6.3"
  }
 },
 "nbformat": 4,
 "nbformat_minor": 2
}
